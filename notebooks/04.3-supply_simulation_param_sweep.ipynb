{
 "cells": [
  {
   "cell_type": "markdown",
   "id": "ea7f00b1-cd88-4466-be68-c93a4000e6c7",
   "metadata": {},
   "source": [
    "# Qredo tokenomics simulation - parameter sweep\n",
    "\n",
    "### June 2023\n",
    "\n",
    "## 1. Imports"
   ]
  },
  {
   "cell_type": "code",
   "execution_count": null,
   "id": "34e6a27f-fbd4-413b-a2f2-4853416fc96e",
   "metadata": {
    "tags": []
   },
   "outputs": [],
   "source": [
    "import os\n",
    "import pickle\n",
    "import timeit\n",
    "import pandas as pd\n",
    "import numpy as np\n",
    "import itertools\n",
    "\n",
    "import warnings\n",
    "warnings.filterwarnings('ignore')"
   ]
  },
  {
   "cell_type": "code",
   "execution_count": null,
   "id": "8627be9b-f2b8-4c91-b611-dfc8fb33055a",
   "metadata": {
    "tags": []
   },
   "outputs": [],
   "source": [
    "code_dir = os.path.realpath(os.path.join(os.getcwd(), \"..\"))\n",
    "\n",
    "import sys\n",
    "sys.path.append(code_dir)\n",
    "\n",
    "from mechaqredo.sim import run_param_sweep_sim"
   ]
  },
  {
   "cell_type": "markdown",
   "id": "e8bddcf6-aa95-45c1-9e5e-044715e77a4c",
   "metadata": {
    "tags": []
   },
   "source": [
    "## 2. Load scenarios"
   ]
  },
  {
   "cell_type": "code",
   "execution_count": null,
   "id": "ebfe21ed-e37d-4e9e-9aee-497ffa1a067b",
   "metadata": {
    "tags": []
   },
   "outputs": [],
   "source": [
    "forecast_length = 365*2\n",
    "outfolder = os.path.realpath(\"../data/sim_data\")\n",
    "scenario_file = os.path.join(outfolder, f\"params_scenarios.pickle\")\n",
    "with open(scenario_file, \"rb\") as fp:\n",
    "    scenario_dict_list = pickle.load(fp)\n",
    "    \n",
    "scenario_dict_list[0].keys()"
   ]
  },
  {
   "cell_type": "markdown",
   "id": "87c914b2-64b8-4ef6-b074-53c476a92aa4",
   "metadata": {
    "tags": []
   },
   "source": [
    "## 3. Set ranges for tokenomic params"
   ]
  },
  {
   "cell_type": "code",
   "execution_count": null,
   "id": "814b6cf0-b6b7-40f7-9a03-c79fac76e122",
   "metadata": {
    "tags": []
   },
   "outputs": [],
   "source": [
    "file = os.path.realpath(\"../data/balances.csv\")\n",
    "wallet_df = pd.read_csv(file)\n",
    "wallet_df.balance.quantile([0.01, 0.05, 0.1])"
   ]
  },
  {
   "cell_type": "markdown",
   "id": "a1148f35-69cc-4cf3-a887-c24f99c106a7",
   "metadata": {},
   "source": [
    "**Initial ranges:**\n",
    "\n",
    "```python\n",
    "param_ranges_dict = {\n",
    "    \"tipping_rate\": [0.05, 0.2, 0.4],\n",
    "    \"protocol_fee_rate\": [0.001,0.01, 0.1, 1],\n",
    "    \"min_stake_amount\": [1, 160, 5000, 12000],\n",
    "    \"min_stake_duration\": [7*2, 7*4, 7*8],\n",
    "    \"validator_reward_share\": list(np.arange(0.1, 1, 0.1)),\n",
    "    \"staking_rewards_vesting_decay_rate\": [np.log(2) / (i * 365) for i in [3.0, 4.0, 5.0]],\n",
    "    \"release_rate_a\": [1/3, 1/2, 1.0],\n",
    "    \"release_rate_b\": [0.5, 1.0, 2.0],\n",
    "}\n",
    "```\n",
    "\n",
    "**Current ranges:**"
   ]
  },
  {
   "cell_type": "code",
   "execution_count": null,
   "id": "1144986a-dcf5-4bbb-959f-f42bbf4d226f",
   "metadata": {
    "tags": []
   },
   "outputs": [],
   "source": [
    "param_ranges_dict = {\n",
    "    \"tipping_rate\": [0.05, 0.2],\n",
    "    \"protocol_fee_rate\": [0.001, 0.1],\n",
    "    \"min_stake_amount\": [200, 5000],\n",
    "    \"min_stake_duration\": [7*4, 7*8],\n",
    "    \"validator_reward_share\": list(np.arange(0.1, 1, 0.3)),\n",
    "    \"staking_rewards_vesting_decay_rate\": [np.log(2) / (i * 365) for i in [3.0, 4.0]],\n",
    "    \"release_rate_a\": [1/2, 1.0],\n",
    "    \"release_rate_b\": [0.5, 1.0],\n",
    "}"
   ]
  },
  {
   "cell_type": "markdown",
   "id": "162698a5-bea1-4e0f-8afb-450289756574",
   "metadata": {},
   "source": [
    "**Time estimation per scenario (minutes):**"
   ]
  },
  {
   "cell_type": "code",
   "execution_count": null,
   "id": "6a7fc8fe-6014-404b-9601-ca3230a5ea65",
   "metadata": {
    "tags": []
   },
   "outputs": [],
   "source": [
    "a = len(list(itertools.product(*param_ranges_dict.values())))\n",
    "b = len(scenario_dict_list[0][\"data_dict_list\"])\n",
    "single_sim = 0.011927916999999955\n",
    "\n",
    "(single_sim*a*b)/60"
   ]
  },
  {
   "cell_type": "markdown",
   "id": "47aa1f53-e6e9-437e-9f17-151dac80055f",
   "metadata": {},
   "source": [
    "## 3. Run parameter sweep"
   ]
  },
  {
   "cell_type": "code",
   "execution_count": null,
   "id": "b479915b-ba09-4304-a30f-16d021200336",
   "metadata": {
    "tags": []
   },
   "outputs": [],
   "source": [
    "sim=1\n",
    "for scenario_dict in scenario_dict_list:\n",
    "    params_dict = scenario_dict[\"params_dict\"]\n",
    "    data_dict_list = scenario_dict[\"data_dict_list\"]\n",
    "    sweep_df = run_param_sweep_sim(\n",
    "        forecast_length,\n",
    "        params_dict,\n",
    "        param_ranges_dict,\n",
    "        data_dict_list=data_dict_list,\n",
    "    )\n",
    "    sweep_df['token_scenario'] = scenario_dict['token_scenario']\n",
    "    sweep_df['usage_scenario'] = scenario_dict['usage_scenario']\n",
    "    sweep_df['staking_scenario'] = scenario_dict['staking_scenario']\n",
    "    stop = timeit.default_timer()\n",
    "    file_name = f\"sim_df_scenario_{sim}.csv\"\n",
    "    scenario_file = os.path.join(outfolder, file_name)\n",
    "    sweep_df.to_csv(scenario_file, index=False)\n",
    "    sim+=1"
   ]
  }
 ],
 "metadata": {
  "kernelspec": {
   "display_name": "Python 3 (ipykernel)",
   "language": "python",
   "name": "python3"
  },
  "language_info": {
   "codemirror_mode": {
    "name": "ipython",
    "version": 3
   },
   "file_extension": ".py",
   "mimetype": "text/x-python",
   "name": "python",
   "nbconvert_exporter": "python",
   "pygments_lexer": "ipython3",
   "version": "3.8.16"
  }
 },
 "nbformat": 4,
 "nbformat_minor": 5
}
