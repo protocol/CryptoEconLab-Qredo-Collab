{
 "cells": [
  {
   "cell_type": "markdown",
   "id": "ea7f00b1-cd88-4466-be68-c93a4000e6c7",
   "metadata": {},
   "source": [
    "# Qredo tokenomics simulation - parameter sweep\n",
    "\n",
    "### June 2023\n",
    "\n",
    "## 1. Imports"
   ]
  },
  {
   "cell_type": "code",
   "execution_count": 1,
   "id": "34e6a27f-fbd4-413b-a2f2-4853416fc96e",
   "metadata": {
    "tags": []
   },
   "outputs": [],
   "source": [
    "import os\n",
    "import pickle\n",
    "import pandas as pd\n",
    "import numpy as np\n",
    "import itertools\n",
    "from tqdm import tqdm\n",
    "\n",
    "import warnings\n",
    "warnings.filterwarnings('ignore')"
   ]
  },
  {
   "cell_type": "code",
   "execution_count": 2,
   "id": "8627be9b-f2b8-4c91-b611-dfc8fb33055a",
   "metadata": {
    "tags": []
   },
   "outputs": [],
   "source": [
    "code_dir = os.path.realpath(os.path.join(os.getcwd(), \"..\"))\n",
    "\n",
    "import sys\n",
    "sys.path.append(code_dir)\n",
    "\n",
    "from mechaqredo.sim import run_param_sweep_sim"
   ]
  },
  {
   "cell_type": "markdown",
   "id": "e8bddcf6-aa95-45c1-9e5e-044715e77a4c",
   "metadata": {
    "tags": []
   },
   "source": [
    "## 2. Load scenarios"
   ]
  },
  {
   "cell_type": "code",
   "execution_count": 3,
   "id": "ebfe21ed-e37d-4e9e-9aee-497ffa1a067b",
   "metadata": {
    "tags": []
   },
   "outputs": [
    {
     "data": {
      "text/plain": [
       "dict_keys(['token_scenario', 'usage_scenario', 'staking_scenario', 'params_dict', 'data_dict_list'])"
      ]
     },
     "execution_count": 3,
     "metadata": {},
     "output_type": "execute_result"
    }
   ],
   "source": [
    "forecast_length = 365*2\n",
    "outfolder = os.path.realpath(\"../data/sim_data\")\n",
    "scenario_file = os.path.join(outfolder, f\"params_scenarios.pickle\")\n",
    "with open(scenario_file, \"rb\") as fp:\n",
    "    scenario_dict_list = pickle.load(fp)\n",
    "    \n",
    "scenario_dict_list[0].keys()"
   ]
  },
  {
   "cell_type": "markdown",
   "id": "87c914b2-64b8-4ef6-b074-53c476a92aa4",
   "metadata": {
    "tags": []
   },
   "source": [
    "## 3. Set ranges for tokenomic params"
   ]
  },
  {
   "cell_type": "code",
   "execution_count": 4,
   "id": "1144986a-dcf5-4bbb-959f-f42bbf4d226f",
   "metadata": {
    "tags": []
   },
   "outputs": [],
   "source": [
    "param_ranges_dict = {\n",
    "    \"tipping_rate\": [0.2, 0.3, 0.4],\n",
    "    \"protocol_fee_rate\": [1],\n",
    "    \"min_stake_amount\": [2500],\n",
    "    \"min_stake_duration\": [7*4],\n",
    "    \"validator_reward_share\": [0.7, 0.8, 0.9],\n",
    "    \"staking_rewards_vesting_decay_rate\": [np.log(2) / (i * 365) for i in [2.0, 4.0, 6.0]],\n",
    "    \"release_rate_a\": [0.8, 1.0],\n",
    "    \"release_rate_b\": [0.5],\n",
    "    \"release_rate_max\":[0.0008, 0.0006],\n",
    "    \"ecosystem_refresh_size\": [390_000_000],\n",
    "    \"staking_rewards_fund_size\": [150_000_000],\n",
    "}"
   ]
  },
  {
   "cell_type": "markdown",
   "id": "47aa1f53-e6e9-437e-9f17-151dac80055f",
   "metadata": {},
   "source": [
    "## 3. Run parameter sweep"
   ]
  },
  {
   "cell_type": "code",
   "execution_count": 5,
   "id": "b479915b-ba09-4304-a30f-16d021200336",
   "metadata": {
    "tags": []
   },
   "outputs": [
    {
     "name": "stderr",
     "output_type": "stream",
     "text": [
      "100%|███████████████████████████████████████████████████████████████████████████████████████████████████| 108/108 [00:19<00:00,  5.49it/s]\n",
      "100%|███████████████████████████████████████████████████████████████████████████████████████████████████| 108/108 [00:18<00:00,  5.72it/s]\n",
      "100%|███████████████████████████████████████████████████████████████████████████████████████████████████| 108/108 [00:19<00:00,  5.52it/s]\n",
      "100%|███████████████████████████████████████████████████████████████████████████████████████████████████| 108/108 [00:18<00:00,  5.70it/s]\n",
      "100%|███████████████████████████████████████████████████████████████████████████████████████████████████| 108/108 [00:19<00:00,  5.68it/s]\n",
      "100%|███████████████████████████████████████████████████████████████████████████████████████████████████| 108/108 [00:18<00:00,  5.72it/s]\n",
      "100%|███████████████████████████████████████████████████████████████████████████████████████████████████| 108/108 [00:18<00:00,  5.70it/s]\n",
      "100%|███████████████████████████████████████████████████████████████████████████████████████████████████| 108/108 [00:19<00:00,  5.68it/s]\n",
      "100%|███████████████████████████████████████████████████████████████████████████████████████████████████| 108/108 [00:18<00:00,  5.71it/s]\n",
      "100%|███████████████████████████████████████████████████████████████████████████████████████████████████| 108/108 [00:18<00:00,  5.70it/s]\n",
      "100%|███████████████████████████████████████████████████████████████████████████████████████████████████| 108/108 [00:19<00:00,  5.68it/s]\n",
      "100%|███████████████████████████████████████████████████████████████████████████████████████████████████| 108/108 [00:18<00:00,  5.71it/s]\n",
      "100%|███████████████████████████████████████████████████████████████████████████████████████████████████| 108/108 [00:18<00:00,  5.71it/s]\n",
      "100%|███████████████████████████████████████████████████████████████████████████████████████████████████| 108/108 [00:18<00:00,  5.70it/s]\n",
      "100%|███████████████████████████████████████████████████████████████████████████████████████████████████| 108/108 [00:18<00:00,  5.69it/s]\n",
      "100%|███████████████████████████████████████████████████████████████████████████████████████████████████| 108/108 [00:18<00:00,  5.72it/s]\n",
      "100%|███████████████████████████████████████████████████████████████████████████████████████████████████| 108/108 [00:18<00:00,  5.72it/s]\n",
      "100%|███████████████████████████████████████████████████████████████████████████████████████████████████| 108/108 [00:18<00:00,  5.74it/s]\n",
      "100%|███████████████████████████████████████████████████████████████████████████████████████████████████| 108/108 [00:18<00:00,  5.71it/s]\n",
      "100%|███████████████████████████████████████████████████████████████████████████████████████████████████| 108/108 [00:18<00:00,  5.72it/s]\n",
      "100%|███████████████████████████████████████████████████████████████████████████████████████████████████| 108/108 [00:18<00:00,  5.73it/s]\n",
      "100%|███████████████████████████████████████████████████████████████████████████████████████████████████| 108/108 [00:18<00:00,  5.71it/s]\n",
      "100%|███████████████████████████████████████████████████████████████████████████████████████████████████| 108/108 [00:18<00:00,  5.71it/s]\n",
      "100%|███████████████████████████████████████████████████████████████████████████████████████████████████| 108/108 [00:18<00:00,  5.72it/s]\n",
      "100%|███████████████████████████████████████████████████████████████████████████████████████████████████| 108/108 [00:18<00:00,  5.72it/s]\n",
      "100%|███████████████████████████████████████████████████████████████████████████████████████████████████| 108/108 [00:18<00:00,  5.71it/s]\n",
      "100%|███████████████████████████████████████████████████████████████████████████████████████████████████| 108/108 [00:18<00:00,  5.71it/s]\n"
     ]
    }
   ],
   "source": [
    "for sim, scenario_dict in enumerate(scenario_dict_list):\n",
    "    params_dict = scenario_dict[\"params_dict\"]\n",
    "    data_dict_list = scenario_dict[\"data_dict_list\"]\n",
    "    sweep_df = run_param_sweep_sim(\n",
    "        forecast_length,\n",
    "        params_dict,\n",
    "        param_ranges_dict,\n",
    "        data_dict_list=data_dict_list,\n",
    "    )\n",
    "    sweep_df['token_scenario'] = scenario_dict['token_scenario']\n",
    "    sweep_df['usage_scenario'] = scenario_dict['usage_scenario']\n",
    "    sweep_df['staking_scenario'] = scenario_dict['staking_scenario']\n",
    "    file_name = f\"sim_df_scenario_{sim}.pickle\"\n",
    "    scenario_file = os.path.join(outfolder, file_name)\n",
    "    with open(scenario_file, \"wb\") as fp:\n",
    "        pickle.dump(sweep_df, fp)"
   ]
  }
 ],
 "metadata": {
  "kernelspec": {
   "display_name": "Python 3 (ipykernel)",
   "language": "python",
   "name": "python3"
  },
  "language_info": {
   "codemirror_mode": {
    "name": "ipython",
    "version": 3
   },
   "file_extension": ".py",
   "mimetype": "text/x-python",
   "name": "python",
   "nbconvert_exporter": "python",
   "pygments_lexer": "ipython3",
   "version": "3.8.16"
  }
 },
 "nbformat": 4,
 "nbformat_minor": 5
}
