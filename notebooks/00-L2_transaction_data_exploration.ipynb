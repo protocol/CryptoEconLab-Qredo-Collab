{
 "cells": [
  {
   "cell_type": "markdown",
   "id": "5c0bddf3-ff6b-48a1-9f78-91389a80ef91",
   "metadata": {},
   "source": [
    "# Exploratory data analysis - Qredo L2 transactions\n",
    "\n",
    "#### Maria Silva, May 2023"
   ]
  },
  {
   "cell_type": "code",
   "execution_count": 1,
   "id": "b3c0733e-b38e-445f-a321-3281c7fc75ad",
   "metadata": {
    "tags": []
   },
   "outputs": [],
   "source": [
    "import os\n",
    "import pandas as pd\n",
    "import seaborn as sns\n",
    "import matplotlib.pyplot as plt"
   ]
  },
  {
   "cell_type": "markdown",
   "id": "b432d311-5f1d-4866-9d4c-53ed8246c2e6",
   "metadata": {},
   "source": [
    "## Import data"
   ]
  },
  {
   "cell_type": "code",
   "execution_count": 2,
   "id": "f8648418-a53c-4dce-9793-194088da70d8",
   "metadata": {
    "tags": []
   },
   "outputs": [
    {
     "name": "stdout",
     "output_type": "stream",
     "text": [
      "1130352\n"
     ]
    }
   ],
   "source": [
    "tx_file = os.path.realpath(\"../data/transaction_export.csv\")\n",
    "\n",
    "tx_df = pd.read_csv(tx_file)\n",
    "tx_df[\"date\"] = pd.to_datetime(tx_df[\"timestamp\"], unit=\"s\")\n",
    "tx_df[\"year_month\"] = tx_df[\"date\"].dt.year.astype(\"str\") + \"-\" + tx_df[\"date\"].dt.month.astype(\"str\")\n",
    "tx_df = tx_df.sort_values(\"timestamp\").reset_index(drop=True)\n",
    "print(len(tx_df))"
   ]
  },
  {
   "cell_type": "code",
   "execution_count": 3,
   "id": "dda6a6a0-8f6c-4314-b06e-9a0b4698dabf",
   "metadata": {
    "tags": []
   },
   "outputs": [
    {
     "data": {
      "text/plain": [
       "tx_id               75uB1aubrrf9u33uaJJstP6XJmMvfA8RUPYixpu3h4w8\n",
       "tx_type                                                  deposit\n",
       "chain_tx_id    5A676FC0400819A4EF88D63D429B76ECD3A73539D8A117...\n",
       "wallet_id           9WTr4Sycv3rP1QE3ekhHi7WBN1PQzHoP8wWsoXFnS7Fo\n",
       "fund_id                              1guxjFdsfO91UwSpbKFFA5x8vDq\n",
       "asset                                                BTC-TESTNET\n",
       "asset_scale                                            100000000\n",
       "amount                                                      3000\n",
       "fees                                                           0\n",
       "net_amount                                                  3000\n",
       "benefit_of                                                   NaN\n",
       "timestamp                                             1598979068\n",
       "date                                         2020-09-01 16:51:08\n",
       "year_month                                                2020-9\n",
       "Name: 0, dtype: object"
      ]
     },
     "execution_count": 3,
     "metadata": {},
     "output_type": "execute_result"
    }
   ],
   "source": [
    "tx_df.iloc[0].T"
   ]
  },
  {
   "cell_type": "code",
   "execution_count": 4,
   "id": "c605699d-b2a2-4329-8cf5-6f05d9844cca",
   "metadata": {
    "tags": []
   },
   "outputs": [
    {
     "data": {
      "text/plain": [
       "min   2020-09-01 16:51:08\n",
       "max   2023-05-01 22:36:21\n",
       "Name: date, dtype: datetime64[ns]"
      ]
     },
     "execution_count": 4,
     "metadata": {},
     "output_type": "execute_result"
    }
   ],
   "source": [
    "tx_df[\"date\"].agg([\"min\", \"max\"])"
   ]
  },
  {
   "cell_type": "markdown",
   "id": "c826fbd0-515f-4240-b005-932f118589b8",
   "metadata": {},
   "source": [
    "## Data cleaning"
   ]
  },
  {
   "cell_type": "markdown",
   "id": "7ad84d23-f1ca-4236-be97-dfa1bc1632ed",
   "metadata": {},
   "source": [
    "There is some weird `transferIn` transactions with negative ammounts:"
   ]
  },
  {
   "cell_type": "code",
   "execution_count": 5,
   "id": "976242a9-69b9-4194-b0df-dbbe0398370b",
   "metadata": {
    "tags": []
   },
   "outputs": [
    {
     "data": {
      "text/html": [
       "<div>\n",
       "<style scoped>\n",
       "    .dataframe tbody tr th:only-of-type {\n",
       "        vertical-align: middle;\n",
       "    }\n",
       "\n",
       "    .dataframe tbody tr th {\n",
       "        vertical-align: top;\n",
       "    }\n",
       "\n",
       "    .dataframe thead th {\n",
       "        text-align: right;\n",
       "    }\n",
       "</style>\n",
       "<table border=\"1\" class=\"dataframe\">\n",
       "  <thead>\n",
       "    <tr style=\"text-align: right;\">\n",
       "      <th></th>\n",
       "      <th>tx_id</th>\n",
       "      <th>tx_type</th>\n",
       "      <th>chain_tx_id</th>\n",
       "      <th>wallet_id</th>\n",
       "      <th>fund_id</th>\n",
       "      <th>asset</th>\n",
       "      <th>asset_scale</th>\n",
       "      <th>amount</th>\n",
       "      <th>fees</th>\n",
       "      <th>net_amount</th>\n",
       "      <th>benefit_of</th>\n",
       "      <th>timestamp</th>\n",
       "      <th>date</th>\n",
       "      <th>year_month</th>\n",
       "    </tr>\n",
       "  </thead>\n",
       "  <tbody>\n",
       "    <tr>\n",
       "      <th>310124</th>\n",
       "      <td>A2AAA97FE47568915077E94833816B55D1E67527612953...</td>\n",
       "      <td>transferIn</td>\n",
       "      <td>A2AAA97FE47568915077E94833816B55D1E67527612953...</td>\n",
       "      <td>7zVHWHBxUYVFFTzwjnsMKgY4qbXnsQPMxu2HNq1hEjvt</td>\n",
       "      <td>22t3a4gbaDhnPEZi6HO5SqQD2ri</td>\n",
       "      <td>DAI</td>\n",
       "      <td>1000000000</td>\n",
       "      <td>-6551738097771157760</td>\n",
       "      <td>0</td>\n",
       "      <td>-6551738097771157760</td>\n",
       "      <td>NaN</td>\n",
       "      <td>1651737335</td>\n",
       "      <td>2022-05-05 07:55:35</td>\n",
       "      <td>2022-5</td>\n",
       "    </tr>\n",
       "    <tr>\n",
       "      <th>761978</th>\n",
       "      <td>9A929E766726BABDEACC20F04435D9C0F3D3EDD9FA7D9B...</td>\n",
       "      <td>transferIn</td>\n",
       "      <td>9A929E766726BABDEACC20F04435D9C0F3D3EDD9FA7D9B...</td>\n",
       "      <td>KWBA9645MBMvZjhAsBYrhy95tonA4g3kt1SuhkHFLYG</td>\n",
       "      <td>1qHxmKKwrgEWgbqLWWBQudHxOxI</td>\n",
       "      <td>DOT</td>\n",
       "      <td>1000000</td>\n",
       "      <td>-167220194</td>\n",
       "      <td>0</td>\n",
       "      <td>-167220194</td>\n",
       "      <td>NaN</td>\n",
       "      <td>1667512599</td>\n",
       "      <td>2022-11-03 21:56:39</td>\n",
       "      <td>2022-11</td>\n",
       "    </tr>\n",
       "    <tr>\n",
       "      <th>761979</th>\n",
       "      <td>068E8C85A8978F02C7752EB36FD58840804E6AE4B8F0D1...</td>\n",
       "      <td>transferIn</td>\n",
       "      <td>068E8C85A8978F02C7752EB36FD58840804E6AE4B8F0D1...</td>\n",
       "      <td>a4DY8gVLS6f4odnykef5DueYtd1XhyEU7rc8guss5Ka</td>\n",
       "      <td>2F7Zd7q2DOPs2zlqqfj2Or2BzZa</td>\n",
       "      <td>DOT</td>\n",
       "      <td>1000000</td>\n",
       "      <td>-2000000</td>\n",
       "      <td>0</td>\n",
       "      <td>-2000000</td>\n",
       "      <td>NaN</td>\n",
       "      <td>1667512728</td>\n",
       "      <td>2022-11-03 21:58:48</td>\n",
       "      <td>2022-11</td>\n",
       "    </tr>\n",
       "    <tr>\n",
       "      <th>761980</th>\n",
       "      <td>1C221E417A82868948B08C07A8C73D66E5276A9A1BC06F...</td>\n",
       "      <td>transferIn</td>\n",
       "      <td>1C221E417A82868948B08C07A8C73D66E5276A9A1BC06F...</td>\n",
       "      <td>BUoucCCrXmnKSAGAZ9Hok8BoyMtwYiANPcrSmU3rzXMt</td>\n",
       "      <td>1sTAboyBno5LvDtqZhBK9hC6sDq</td>\n",
       "      <td>DOT</td>\n",
       "      <td>1000000</td>\n",
       "      <td>-5000000</td>\n",
       "      <td>0</td>\n",
       "      <td>-5000000</td>\n",
       "      <td>NaN</td>\n",
       "      <td>1667512833</td>\n",
       "      <td>2022-11-03 22:00:33</td>\n",
       "      <td>2022-11</td>\n",
       "    </tr>\n",
       "    <tr>\n",
       "      <th>774685</th>\n",
       "      <td>5F58FAA55762EA42DF100CD183417CC07483FD65776217...</td>\n",
       "      <td>transferIn</td>\n",
       "      <td>5F58FAA55762EA42DF100CD183417CC07483FD65776217...</td>\n",
       "      <td>HhVBXSJsEqfioewvTVyTB3CoEXfgxiB8eDaV1MdjHUgE</td>\n",
       "      <td>26pBElm0tqzUHpfOpCvAfMGejkC</td>\n",
       "      <td>ETH</td>\n",
       "      <td>1000000000</td>\n",
       "      <td>-10993273749</td>\n",
       "      <td>0</td>\n",
       "      <td>-10993273749</td>\n",
       "      <td>NaN</td>\n",
       "      <td>1667994708</td>\n",
       "      <td>2022-11-09 11:51:48</td>\n",
       "      <td>2022-11</td>\n",
       "    </tr>\n",
       "    <tr>\n",
       "      <th>984979</th>\n",
       "      <td>2F546A61725A393826FE7979ADF6944B977A85E930D133...</td>\n",
       "      <td>transferIn</td>\n",
       "      <td>2F546A61725A393826FE7979ADF6944B977A85E930D133...</td>\n",
       "      <td>GEScNnnoDHM2V9ffuVU2cB8hjuahEyvm1DReqZ7dZMA3</td>\n",
       "      <td>2Abz7Iv2LgRLMLQmhmJxvhSvlkB</td>\n",
       "      <td>USDC</td>\n",
       "      <td>1000000</td>\n",
       "      <td>-15014396729</td>\n",
       "      <td>0</td>\n",
       "      <td>-15014396729</td>\n",
       "      <td>NaN</td>\n",
       "      <td>1675182481</td>\n",
       "      <td>2023-01-31 16:28:01</td>\n",
       "      <td>2023-1</td>\n",
       "    </tr>\n",
       "    <tr>\n",
       "      <th>1064195</th>\n",
       "      <td>C1EE1E5717BD574A23FC87AA158894709296D2874A0600...</td>\n",
       "      <td>transferIn</td>\n",
       "      <td>C1EE1E5717BD574A23FC87AA158894709296D2874A0600...</td>\n",
       "      <td>FtU9795Jy22KT4feiLzKGxUndwqgJMcrjXWwrt1ZwE3y</td>\n",
       "      <td>1xZgmNpI1HJJri3RzOJDff7WXR8</td>\n",
       "      <td>ETH-GOERLI</td>\n",
       "      <td>1000000000</td>\n",
       "      <td>-25200000</td>\n",
       "      <td>0</td>\n",
       "      <td>-25200000</td>\n",
       "      <td>NaN</td>\n",
       "      <td>1679399965</td>\n",
       "      <td>2023-03-21 11:59:25</td>\n",
       "      <td>2023-3</td>\n",
       "    </tr>\n",
       "    <tr>\n",
       "      <th>1087079</th>\n",
       "      <td>4584B515DA42C19034B492F0AE157D395CE2A765DD7F08...</td>\n",
       "      <td>transferIn</td>\n",
       "      <td>4584B515DA42C19034B492F0AE157D395CE2A765DD7F08...</td>\n",
       "      <td>4Yha3VnxbcwhjbKLwbafrXb9vtYcLothTSKCL3AZPcio</td>\n",
       "      <td>1zXS4gV0jcT1hXGqWypoWFrbY9N</td>\n",
       "      <td>BSC-BUSD-TESTNET</td>\n",
       "      <td>1000000000</td>\n",
       "      <td>-999999982000301037</td>\n",
       "      <td>0</td>\n",
       "      <td>-999999982000301037</td>\n",
       "      <td>NaN</td>\n",
       "      <td>1680870570</td>\n",
       "      <td>2023-04-07 12:29:30</td>\n",
       "      <td>2023-4</td>\n",
       "    </tr>\n",
       "  </tbody>\n",
       "</table>\n",
       "</div>"
      ],
      "text/plain": [
       "                                                     tx_id     tx_type   \n",
       "310124   A2AAA97FE47568915077E94833816B55D1E67527612953...  transferIn  \\\n",
       "761978   9A929E766726BABDEACC20F04435D9C0F3D3EDD9FA7D9B...  transferIn   \n",
       "761979   068E8C85A8978F02C7752EB36FD58840804E6AE4B8F0D1...  transferIn   \n",
       "761980   1C221E417A82868948B08C07A8C73D66E5276A9A1BC06F...  transferIn   \n",
       "774685   5F58FAA55762EA42DF100CD183417CC07483FD65776217...  transferIn   \n",
       "984979   2F546A61725A393826FE7979ADF6944B977A85E930D133...  transferIn   \n",
       "1064195  C1EE1E5717BD574A23FC87AA158894709296D2874A0600...  transferIn   \n",
       "1087079  4584B515DA42C19034B492F0AE157D395CE2A765DD7F08...  transferIn   \n",
       "\n",
       "                                               chain_tx_id   \n",
       "310124   A2AAA97FE47568915077E94833816B55D1E67527612953...  \\\n",
       "761978   9A929E766726BABDEACC20F04435D9C0F3D3EDD9FA7D9B...   \n",
       "761979   068E8C85A8978F02C7752EB36FD58840804E6AE4B8F0D1...   \n",
       "761980   1C221E417A82868948B08C07A8C73D66E5276A9A1BC06F...   \n",
       "774685   5F58FAA55762EA42DF100CD183417CC07483FD65776217...   \n",
       "984979   2F546A61725A393826FE7979ADF6944B977A85E930D133...   \n",
       "1064195  C1EE1E5717BD574A23FC87AA158894709296D2874A0600...   \n",
       "1087079  4584B515DA42C19034B492F0AE157D395CE2A765DD7F08...   \n",
       "\n",
       "                                            wallet_id   \n",
       "310124   7zVHWHBxUYVFFTzwjnsMKgY4qbXnsQPMxu2HNq1hEjvt  \\\n",
       "761978    KWBA9645MBMvZjhAsBYrhy95tonA4g3kt1SuhkHFLYG   \n",
       "761979    a4DY8gVLS6f4odnykef5DueYtd1XhyEU7rc8guss5Ka   \n",
       "761980   BUoucCCrXmnKSAGAZ9Hok8BoyMtwYiANPcrSmU3rzXMt   \n",
       "774685   HhVBXSJsEqfioewvTVyTB3CoEXfgxiB8eDaV1MdjHUgE   \n",
       "984979   GEScNnnoDHM2V9ffuVU2cB8hjuahEyvm1DReqZ7dZMA3   \n",
       "1064195  FtU9795Jy22KT4feiLzKGxUndwqgJMcrjXWwrt1ZwE3y   \n",
       "1087079  4Yha3VnxbcwhjbKLwbafrXb9vtYcLothTSKCL3AZPcio   \n",
       "\n",
       "                             fund_id             asset  asset_scale   \n",
       "310124   22t3a4gbaDhnPEZi6HO5SqQD2ri               DAI   1000000000  \\\n",
       "761978   1qHxmKKwrgEWgbqLWWBQudHxOxI               DOT      1000000   \n",
       "761979   2F7Zd7q2DOPs2zlqqfj2Or2BzZa               DOT      1000000   \n",
       "761980   1sTAboyBno5LvDtqZhBK9hC6sDq               DOT      1000000   \n",
       "774685   26pBElm0tqzUHpfOpCvAfMGejkC               ETH   1000000000   \n",
       "984979   2Abz7Iv2LgRLMLQmhmJxvhSvlkB              USDC      1000000   \n",
       "1064195  1xZgmNpI1HJJri3RzOJDff7WXR8        ETH-GOERLI   1000000000   \n",
       "1087079  1zXS4gV0jcT1hXGqWypoWFrbY9N  BSC-BUSD-TESTNET   1000000000   \n",
       "\n",
       "                      amount  fees           net_amount benefit_of   \n",
       "310124  -6551738097771157760     0 -6551738097771157760        NaN  \\\n",
       "761978            -167220194     0           -167220194        NaN   \n",
       "761979              -2000000     0             -2000000        NaN   \n",
       "761980              -5000000     0             -5000000        NaN   \n",
       "774685          -10993273749     0         -10993273749        NaN   \n",
       "984979          -15014396729     0         -15014396729        NaN   \n",
       "1064195            -25200000     0            -25200000        NaN   \n",
       "1087079  -999999982000301037     0  -999999982000301037        NaN   \n",
       "\n",
       "          timestamp                date year_month  \n",
       "310124   1651737335 2022-05-05 07:55:35     2022-5  \n",
       "761978   1667512599 2022-11-03 21:56:39    2022-11  \n",
       "761979   1667512728 2022-11-03 21:58:48    2022-11  \n",
       "761980   1667512833 2022-11-03 22:00:33    2022-11  \n",
       "774685   1667994708 2022-11-09 11:51:48    2022-11  \n",
       "984979   1675182481 2023-01-31 16:28:01     2023-1  \n",
       "1064195  1679399965 2023-03-21 11:59:25     2023-3  \n",
       "1087079  1680870570 2023-04-07 12:29:30     2023-4  "
      ]
     },
     "execution_count": 5,
     "metadata": {},
     "output_type": "execute_result"
    }
   ],
   "source": [
    "tx_df[tx_df[\"amount\"]<0]"
   ]
  },
  {
   "cell_type": "code",
   "execution_count": 6,
   "id": "2b937eb0-55cb-40cc-b868-9ddfc243d883",
   "metadata": {
    "tags": []
   },
   "outputs": [],
   "source": [
    "clean_tx_df = tx_df[tx_df[\"amount\"]>=0]"
   ]
  },
  {
   "cell_type": "markdown",
   "id": "2fc25791-766d-4636-a8da-91f6fa24bff0",
   "metadata": {},
   "source": [
    "## Transaction types"
   ]
  },
  {
   "cell_type": "code",
   "execution_count": 7,
   "id": "ac3fbc9a-364f-443c-b244-c5787eed3f84",
   "metadata": {
    "tags": []
   },
   "outputs": [
    {
     "data": {
      "text/plain": [
       "tx_type\n",
       "deposit         16424\n",
       "swapIn            701\n",
       "swapOut           709\n",
       "transferIn     536304\n",
       "transferOut    541531\n",
       "withdraw        34675\n",
       "dtype: int64"
      ]
     },
     "execution_count": 7,
     "metadata": {},
     "output_type": "execute_result"
    }
   ],
   "source": [
    "clean_tx_df.groupby(\"tx_type\").size()"
   ]
  },
  {
   "cell_type": "code",
   "execution_count": 8,
   "id": "a8fe063a-f36b-46cd-b2e3-0506d536fd80",
   "metadata": {
    "tags": []
   },
   "outputs": [
    {
     "data": {
      "text/plain": [
       "tx_type\n",
       "deposit        0.014530\n",
       "swapIn         0.000620\n",
       "swapOut        0.000627\n",
       "transferIn     0.474458\n",
       "transferOut    0.479082\n",
       "withdraw       0.030676\n",
       "dtype: float64"
      ]
     },
     "execution_count": 8,
     "metadata": {},
     "output_type": "execute_result"
    }
   ],
   "source": [
    "clean_tx_df.groupby(\"tx_type\").size()/1130352"
   ]
  },
  {
   "cell_type": "code",
   "execution_count": 9,
   "id": "5f62945f-4d3e-4b33-b148-081d94b8fdd4",
   "metadata": {
    "tags": []
   },
   "outputs": [
    {
     "data": {
      "text/html": [
       "<div>\n",
       "<style scoped>\n",
       "    .dataframe tbody tr th:only-of-type {\n",
       "        vertical-align: middle;\n",
       "    }\n",
       "\n",
       "    .dataframe tbody tr th {\n",
       "        vertical-align: top;\n",
       "    }\n",
       "\n",
       "    .dataframe thead th {\n",
       "        text-align: right;\n",
       "    }\n",
       "</style>\n",
       "<table border=\"1\" class=\"dataframe\">\n",
       "  <thead>\n",
       "    <tr style=\"text-align: right;\">\n",
       "      <th></th>\n",
       "      <th>asset</th>\n",
       "      <th>amount</th>\n",
       "      <th>net_amount</th>\n",
       "      <th>fees</th>\n",
       "    </tr>\n",
       "    <tr>\n",
       "      <th>tx_type</th>\n",
       "      <th></th>\n",
       "      <th></th>\n",
       "      <th></th>\n",
       "      <th></th>\n",
       "    </tr>\n",
       "  </thead>\n",
       "  <tbody>\n",
       "    <tr>\n",
       "      <th>deposit</th>\n",
       "      <td>BTC-TESTNET</td>\n",
       "      <td>3000</td>\n",
       "      <td>3000</td>\n",
       "      <td>0</td>\n",
       "    </tr>\n",
       "    <tr>\n",
       "      <th>swapIn</th>\n",
       "      <td>ETH</td>\n",
       "      <td>37000000</td>\n",
       "      <td>37000000</td>\n",
       "      <td>0</td>\n",
       "    </tr>\n",
       "    <tr>\n",
       "      <th>swapOut</th>\n",
       "      <td>ETH</td>\n",
       "      <td>37003700</td>\n",
       "      <td>37000000</td>\n",
       "      <td>3700</td>\n",
       "    </tr>\n",
       "    <tr>\n",
       "      <th>transferIn</th>\n",
       "      <td>BTC-TESTNET</td>\n",
       "      <td>2970</td>\n",
       "      <td>2970</td>\n",
       "      <td>0</td>\n",
       "    </tr>\n",
       "    <tr>\n",
       "      <th>transferOut</th>\n",
       "      <td>BTC-TESTNET</td>\n",
       "      <td>2973</td>\n",
       "      <td>2970</td>\n",
       "      <td>3</td>\n",
       "    </tr>\n",
       "    <tr>\n",
       "      <th>withdraw</th>\n",
       "      <td>BTC-TESTNET</td>\n",
       "      <td>2820</td>\n",
       "      <td>2000</td>\n",
       "      <td>820</td>\n",
       "    </tr>\n",
       "  </tbody>\n",
       "</table>\n",
       "</div>"
      ],
      "text/plain": [
       "                   asset    amount  net_amount  fees\n",
       "tx_type                                             \n",
       "deposit      BTC-TESTNET      3000        3000     0\n",
       "swapIn               ETH  37000000    37000000     0\n",
       "swapOut              ETH  37003700    37000000  3700\n",
       "transferIn   BTC-TESTNET      2970        2970     0\n",
       "transferOut  BTC-TESTNET      2973        2970     3\n",
       "withdraw     BTC-TESTNET      2820        2000   820"
      ]
     },
     "execution_count": 9,
     "metadata": {},
     "output_type": "execute_result"
    }
   ],
   "source": [
    "clean_tx_df[[\"tx_type\", \"asset\", \"amount\", \"net_amount\", \"fees\"]].groupby(\"tx_type\").first()"
   ]
  },
  {
   "cell_type": "code",
   "execution_count": 10,
   "id": "422a0ba3-9aaa-474b-a3f2-1c31344e423e",
   "metadata": {
    "tags": []
   },
   "outputs": [
    {
     "data": {
      "text/html": [
       "<div>\n",
       "<style scoped>\n",
       "    .dataframe tbody tr th:only-of-type {\n",
       "        vertical-align: middle;\n",
       "    }\n",
       "\n",
       "    .dataframe tbody tr th {\n",
       "        vertical-align: top;\n",
       "    }\n",
       "\n",
       "    .dataframe thead th {\n",
       "        text-align: right;\n",
       "    }\n",
       "</style>\n",
       "<table border=\"1\" class=\"dataframe\">\n",
       "  <thead>\n",
       "    <tr style=\"text-align: right;\">\n",
       "      <th></th>\n",
       "      <th>tx_type</th>\n",
       "      <th>asset</th>\n",
       "      <th>0</th>\n",
       "    </tr>\n",
       "  </thead>\n",
       "  <tbody>\n",
       "    <tr>\n",
       "      <th>0</th>\n",
       "      <td>transferOut</td>\n",
       "      <td>QRDO</td>\n",
       "      <td>0.475745</td>\n",
       "    </tr>\n",
       "    <tr>\n",
       "      <th>1</th>\n",
       "      <td>transferIn</td>\n",
       "      <td>QRDO</td>\n",
       "      <td>0.471114</td>\n",
       "    </tr>\n",
       "    <tr>\n",
       "      <th>2</th>\n",
       "      <td>withdraw</td>\n",
       "      <td>QRDO</td>\n",
       "      <td>0.026294</td>\n",
       "    </tr>\n",
       "    <tr>\n",
       "      <th>3</th>\n",
       "      <td>deposit</td>\n",
       "      <td>QRDO</td>\n",
       "      <td>0.008738</td>\n",
       "    </tr>\n",
       "    <tr>\n",
       "      <th>4</th>\n",
       "      <td>deposit</td>\n",
       "      <td>ETH</td>\n",
       "      <td>0.001515</td>\n",
       "    </tr>\n",
       "    <tr>\n",
       "      <th>5</th>\n",
       "      <td>withdraw</td>\n",
       "      <td>USDT</td>\n",
       "      <td>0.001105</td>\n",
       "    </tr>\n",
       "    <tr>\n",
       "      <th>6</th>\n",
       "      <td>transferOut</td>\n",
       "      <td>USDC</td>\n",
       "      <td>0.001091</td>\n",
       "    </tr>\n",
       "    <tr>\n",
       "      <th>7</th>\n",
       "      <td>transferIn</td>\n",
       "      <td>USDC</td>\n",
       "      <td>0.001090</td>\n",
       "    </tr>\n",
       "    <tr>\n",
       "      <th>8</th>\n",
       "      <td>withdraw</td>\n",
       "      <td>BTC</td>\n",
       "      <td>0.001056</td>\n",
       "    </tr>\n",
       "    <tr>\n",
       "      <th>9</th>\n",
       "      <td>deposit</td>\n",
       "      <td>BTC</td>\n",
       "      <td>0.000933</td>\n",
       "    </tr>\n",
       "    <tr>\n",
       "      <th>10</th>\n",
       "      <td>deposit</td>\n",
       "      <td>USDC</td>\n",
       "      <td>0.000763</td>\n",
       "    </tr>\n",
       "    <tr>\n",
       "      <th>11</th>\n",
       "      <td>withdraw</td>\n",
       "      <td>USDC</td>\n",
       "      <td>0.000699</td>\n",
       "    </tr>\n",
       "    <tr>\n",
       "      <th>12</th>\n",
       "      <td>deposit</td>\n",
       "      <td>USDT</td>\n",
       "      <td>0.000687</td>\n",
       "    </tr>\n",
       "    <tr>\n",
       "      <th>13</th>\n",
       "      <td>transferIn</td>\n",
       "      <td>BTC-TESTNET</td>\n",
       "      <td>0.000627</td>\n",
       "    </tr>\n",
       "    <tr>\n",
       "      <th>14</th>\n",
       "      <td>transferOut</td>\n",
       "      <td>BTC-TESTNET</td>\n",
       "      <td>0.000627</td>\n",
       "    </tr>\n",
       "    <tr>\n",
       "      <th>15</th>\n",
       "      <td>transferOut</td>\n",
       "      <td>ETH-TESTNET</td>\n",
       "      <td>0.000618</td>\n",
       "    </tr>\n",
       "    <tr>\n",
       "      <th>16</th>\n",
       "      <td>transferIn</td>\n",
       "      <td>ETH-TESTNET</td>\n",
       "      <td>0.000616</td>\n",
       "    </tr>\n",
       "    <tr>\n",
       "      <th>17</th>\n",
       "      <td>deposit</td>\n",
       "      <td>BTC-TESTNET</td>\n",
       "      <td>0.000602</td>\n",
       "    </tr>\n",
       "    <tr>\n",
       "      <th>18</th>\n",
       "      <td>withdraw</td>\n",
       "      <td>ETH</td>\n",
       "      <td>0.000421</td>\n",
       "    </tr>\n",
       "    <tr>\n",
       "      <th>19</th>\n",
       "      <td>transferIn</td>\n",
       "      <td>BTC</td>\n",
       "      <td>0.000371</td>\n",
       "    </tr>\n",
       "  </tbody>\n",
       "</table>\n",
       "</div>"
      ],
      "text/plain": [
       "        tx_type        asset         0\n",
       "0   transferOut         QRDO  0.475745\n",
       "1    transferIn         QRDO  0.471114\n",
       "2      withdraw         QRDO  0.026294\n",
       "3       deposit         QRDO  0.008738\n",
       "4       deposit          ETH  0.001515\n",
       "5      withdraw         USDT  0.001105\n",
       "6   transferOut         USDC  0.001091\n",
       "7    transferIn         USDC  0.001090\n",
       "8      withdraw          BTC  0.001056\n",
       "9       deposit          BTC  0.000933\n",
       "10      deposit         USDC  0.000763\n",
       "11     withdraw         USDC  0.000699\n",
       "12      deposit         USDT  0.000687\n",
       "13   transferIn  BTC-TESTNET  0.000627\n",
       "14  transferOut  BTC-TESTNET  0.000627\n",
       "15  transferOut  ETH-TESTNET  0.000618\n",
       "16   transferIn  ETH-TESTNET  0.000616\n",
       "17      deposit  BTC-TESTNET  0.000602\n",
       "18     withdraw          ETH  0.000421\n",
       "19   transferIn          BTC  0.000371"
      ]
     },
     "execution_count": 10,
     "metadata": {},
     "output_type": "execute_result"
    }
   ],
   "source": [
    "temp_series = clean_tx_df.groupby([\"tx_type\", \"asset\"]).size().sort_values(ascending=False)/1130352\n",
    "temp_series.reset_index().head(20)"
   ]
  },
  {
   "cell_type": "markdown",
   "id": "2285a007-e3ec-4cc2-ae17-635f09669750",
   "metadata": {},
   "source": [
    "## Transaction volume"
   ]
  },
  {
   "cell_type": "code",
   "execution_count": 11,
   "id": "c2ac8434-4667-4ef4-91b2-0b75f41a1730",
   "metadata": {
    "tags": []
   },
   "outputs": [
    {
     "data": {
      "text/html": [
       "<div>\n",
       "<style scoped>\n",
       "    .dataframe tbody tr th:only-of-type {\n",
       "        vertical-align: middle;\n",
       "    }\n",
       "\n",
       "    .dataframe tbody tr th {\n",
       "        vertical-align: top;\n",
       "    }\n",
       "\n",
       "    .dataframe thead th {\n",
       "        text-align: right;\n",
       "    }\n",
       "</style>\n",
       "<table border=\"1\" class=\"dataframe\">\n",
       "  <thead>\n",
       "    <tr style=\"text-align: right;\">\n",
       "      <th></th>\n",
       "      <th>year_month</th>\n",
       "      <th>amount</th>\n",
       "      <th>net_amount</th>\n",
       "      <th>fees</th>\n",
       "      <th>txs_count</th>\n",
       "      <th>date</th>\n",
       "    </tr>\n",
       "  </thead>\n",
       "  <tbody>\n",
       "    <tr>\n",
       "      <th>0</th>\n",
       "      <td>2020-10</td>\n",
       "      <td>29410149</td>\n",
       "      <td>29398103</td>\n",
       "      <td>12046</td>\n",
       "      <td>87</td>\n",
       "      <td>2020-10-01 07:56:55</td>\n",
       "    </tr>\n",
       "    <tr>\n",
       "      <th>1</th>\n",
       "      <td>2020-11</td>\n",
       "      <td>44024060898</td>\n",
       "      <td>43811064979</td>\n",
       "      <td>212995919</td>\n",
       "      <td>333</td>\n",
       "      <td>2020-11-04 07:31:47</td>\n",
       "    </tr>\n",
       "    <tr>\n",
       "      <th>2</th>\n",
       "      <td>2020-12</td>\n",
       "      <td>28396070967</td>\n",
       "      <td>28348694807</td>\n",
       "      <td>47376160</td>\n",
       "      <td>272</td>\n",
       "      <td>2020-12-01 08:07:24</td>\n",
       "    </tr>\n",
       "    <tr>\n",
       "      <th>3</th>\n",
       "      <td>2020-9</td>\n",
       "      <td>414910357</td>\n",
       "      <td>413690423</td>\n",
       "      <td>1219934</td>\n",
       "      <td>133</td>\n",
       "      <td>2020-09-01 16:51:08</td>\n",
       "    </tr>\n",
       "    <tr>\n",
       "      <th>4</th>\n",
       "      <td>2021-1</td>\n",
       "      <td>13315983496</td>\n",
       "      <td>13311678329</td>\n",
       "      <td>4305167</td>\n",
       "      <td>66</td>\n",
       "      <td>2021-01-01 16:19:19</td>\n",
       "    </tr>\n",
       "  </tbody>\n",
       "</table>\n",
       "</div>"
      ],
      "text/plain": [
       "  year_month       amount   net_amount       fees  txs_count   \n",
       "0    2020-10     29410149     29398103      12046         87  \\\n",
       "1    2020-11  44024060898  43811064979  212995919        333   \n",
       "2    2020-12  28396070967  28348694807   47376160        272   \n",
       "3     2020-9    414910357    413690423    1219934        133   \n",
       "4     2021-1  13315983496  13311678329    4305167         66   \n",
       "\n",
       "                 date  \n",
       "0 2020-10-01 07:56:55  \n",
       "1 2020-11-04 07:31:47  \n",
       "2 2020-12-01 08:07:24  \n",
       "3 2020-09-01 16:51:08  \n",
       "4 2021-01-01 16:19:19  "
      ]
     },
     "execution_count": 11,
     "metadata": {},
     "output_type": "execute_result"
    }
   ],
   "source": [
    "vol_df = clean_tx_df.groupby(\"year_month\")[[\"amount\", \"net_amount\", \"fees\"]].sum()\n",
    "vol_df[\"txs_count\"] = clean_tx_df.groupby(\"year_month\").size()\n",
    "vol_df[\"date\"] = clean_tx_df.groupby(\"year_month\")[\"date\"].first()\n",
    "vol_df = vol_df.reset_index()\n",
    "vol_df.head()"
   ]
  },
  {
   "cell_type": "code",
   "execution_count": 12,
   "id": "2da8921e-6b13-42fb-b405-4e040e80382c",
   "metadata": {
    "tags": []
   },
   "outputs": [
    {
     "data": {
      "image/png": "[encoded data removed]",
      "text/plain": [
       "<Figure size 800x400 with 1 Axes>"
      ]
     },
     "metadata": {},
     "output_type": "display_data"
    }
   ],
   "source": [
    "temp_df = vol_df.copy(deep=True)\n",
    "temp_df[\"txs_count\"] = temp_df[\"txs_count\"]/1000\n",
    "\n",
    "plt.figure(figsize=(8,4))\n",
    "sns.barplot(data=temp_df, x=\"year_month\", y=\"txs_count\", palette=\"Spectral\")\n",
    "plt.ylabel(\"No. transactions (thousands)\")\n",
    "plt.xlabel(\"\")\n",
    "plt.xticks(rotation=60)\n",
    "plt.title(\"Monthly L2 transactions on Qredo\")\n",
    "plt.show()"
   ]
  },
  {
   "cell_type": "code",
   "execution_count": 13,
   "id": "6c93b64c-012d-4b2e-9fbf-414caf8d84c1",
   "metadata": {
    "tags": []
   },
   "outputs": [
    {
     "data": {
      "image/png": "[encoded data removed]",
      "text/plain": [
       "<Figure size 800x400 with 1 Axes>"
      ]
     },
     "metadata": {},
     "output_type": "display_data"
    }
   ],
   "source": [
    "#temp_df = vol_df.copy(deep=True)\n",
    "#temp_df[\"txs_count\"] = temp_df[\"txs_count\"]/1000\n",
    "\n",
    "plt.figure(figsize=(8,4))\n",
    "sns.barplot(data=vol_df, x=\"year_month\", y=\"amount\", palette=\"Spectral\")\n",
    "plt.ylabel(\"Amounts\")\n",
    "plt.xlabel(\"\")\n",
    "plt.xticks(rotation=60)\n",
    "plt.title(\"Monthly L2 transactions on Qredo\")\n",
    "plt.show()"
   ]
  },
  {
   "cell_type": "markdown",
   "id": "671f96cb-ece5-465e-956f-f4c4b84b2d23",
   "metadata": {},
   "source": [
    "**I am not sure this amount plots is correct -> need to check what is the unit of the amount column!!!**"
   ]
  },
  {
   "cell_type": "markdown",
   "id": "3e129c45-89fe-4836-86db-1ed41aa0909c",
   "metadata": {},
   "source": [
    "## Fees"
   ]
  },
  {
   "cell_type": "code",
   "execution_count": 14,
   "id": "0042f4d3-d6ce-4805-a874-e92aa898ca38",
   "metadata": {
    "tags": []
   },
   "outputs": [
    {
     "data": {
      "image/png": "[encoded data removed]",
      "text/plain": [
       "<Figure size 800x400 with 1 Axes>"
      ]
     },
     "metadata": {},
     "output_type": "display_data"
    }
   ],
   "source": [
    "plt.figure(figsize=(8,4))\n",
    "sns.barplot(data=temp_df, x=\"year_month\", y=\"fees\", palette=\"Spectral\")\n",
    "plt.ylabel(\"Fees collected (USD?)\")\n",
    "plt.xlabel(\"\")\n",
    "plt.xticks(rotation=60)\n",
    "plt.title(\"Monthly fees collected on Qredo\")\n",
    "plt.show()"
   ]
  },
  {
   "cell_type": "markdown",
   "id": "b07b6db5-6e92-40ec-a696-27150961615d",
   "metadata": {},
   "source": [
    "**I am not sure this amount plots is correct -> need to check what is the unit of the amount column!!!**"
   ]
  }
 ],
 "metadata": {
  "kernelspec": {
   "display_name": "Python 3 (ipykernel)",
   "language": "python",
   "name": "python3"
  },
  "language_info": {
   "codemirror_mode": {
    "name": "ipython",
    "version": 3
   },
   "file_extension": ".py",
   "mimetype": "text/x-python",
   "name": "python",
   "nbconvert_exporter": "python",
   "pygments_lexer": "ipython3",
   "version": "3.8.16"
  }
 },
 "nbformat": 4,
 "nbformat_minor": 5
}
