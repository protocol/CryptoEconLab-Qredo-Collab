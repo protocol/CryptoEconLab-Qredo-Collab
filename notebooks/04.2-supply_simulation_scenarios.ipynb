{
 "cells": [
  {
   "cell_type": "markdown",
   "id": "75f90757-7bed-4735-8840-bbd4b8530c41",
   "metadata": {},
   "source": [
    "# Qredo tokenomics simulation - scenario generation\n",
    "\n",
    "#### June 2023\n",
    "\n",
    "## 1. Imports"
   ]
  },
  {
   "cell_type": "code",
   "execution_count": 1,
   "id": "7c487c82-da76-4ed8-b780-8dbdf2877576",
   "metadata": {
    "tags": []
   },
   "outputs": [],
   "source": [
    "import os\n",
    "import pandas as pd\n",
    "import pickle\n",
    "import itertools"
   ]
  },
  {
   "cell_type": "code",
   "execution_count": 2,
   "id": "df039238-acb9-44b1-a951-ae3fa1d2209d",
   "metadata": {
    "tags": []
   },
   "outputs": [],
   "source": [
    "code_dir = os.path.realpath(os.path.join(os.getcwd(), \"..\"))\n",
    "\n",
    "import sys\n",
    "sys.path.append(code_dir)\n",
    "\n",
    "from mechaqredo.params import default_params_dict\n",
    "from mechaqredo.sim import run_param_sweep_sim\n",
    "\n",
    "from mechaqredo.generate_scenarios import generate_params_dict_for_scenario\n",
    "from mechaqredo.data_models import build_model_data_dict_samples"
   ]
  },
  {
   "cell_type": "markdown",
   "id": "90d0183e-2f61-4c51-ab10-b25b32976927",
   "metadata": {},
   "source": [
    "## 2. Set up parameters"
   ]
  },
  {
   "cell_type": "code",
   "execution_count": 3,
   "id": "4cf345f7-954b-46b9-84cb-778501c86cc5",
   "metadata": {
    "tags": []
   },
   "outputs": [],
   "source": [
    "forecast_length = 365*2\n",
    "data_dict_n_samples = 50\n",
    "\n",
    "file = os.path.realpath(\"../data/balances.csv\")\n",
    "outfolder = os.path.realpath(\"../data/sim_data\")\n",
    "wallet_df = pd.read_csv(file)\n",
    "params_dict = default_params_dict(forecast_length)\n",
    "params_dict[\"wallet_balances_vec\"] = wallet_df[\"balance\"].values"
   ]
  },
  {
   "cell_type": "code",
   "execution_count": 4,
   "id": "89c2c6d0-9c78-4f28-a173-5153f881ae80",
   "metadata": {
    "tags": []
   },
   "outputs": [
    {
     "data": {
      "text/plain": [
       "125"
      ]
     },
     "execution_count": 4,
     "metadata": {},
     "output_type": "execute_result"
    }
   ],
   "source": [
    "scenarios = ['very bad', 'bad', 'base', 'good', 'very good']\n",
    "scenario_tuple_list = list(itertools.product(scenarios, scenarios, scenarios))\n",
    "len(scenario_tuple_list)"
   ]
  },
  {
   "cell_type": "markdown",
   "id": "8a07782c-9f33-4017-bf33-ee0d13d65c0b",
   "metadata": {},
   "source": [
    "## 3. Build scenarios and save"
   ]
  },
  {
   "cell_type": "code",
   "execution_count": 5,
   "id": "1b30c50e-8725-4996-ba49-0198946a5355",
   "metadata": {
    "tags": []
   },
   "outputs": [],
   "source": [
    "scenario_dict_list = []\n",
    "for token_scenario, usage_scenario, staking_scenario in scenario_tuple_list:\n",
    "    scenario_params_dict = generate_params_dict_for_scenario(\n",
    "        params_dict, token_scenario, usage_scenario, staking_scenario\n",
    "    )\n",
    "    data_dict_list = build_model_data_dict_samples(\n",
    "            data_dict_n_samples, forecast_length, scenario_params_dict\n",
    "        )\n",
    "    scenario_dict = {\n",
    "        \"token_scenario\":token_scenario, \n",
    "        \"usage_scenario\": usage_scenario, \n",
    "        \"staking_scenario\": staking_scenario,\n",
    "        \"params_dict\": params_dict,\n",
    "        \"data_dict_list\": data_dict_list,\n",
    "    }\n",
    "    scenario_dict_list.append(scenario_dict)\n",
    "output_file = os.path.join(outfolder, f\"params_scenarios.pickle\")\n",
    "with open(output_file, \"wb\") as fp:\n",
    "    pickle.dump(scenario_dict_list, fp)"
   ]
  }
 ],
 "metadata": {
  "kernelspec": {
   "display_name": "Python 3 (ipykernel)",
   "language": "python",
   "name": "python3"
  },
  "language_info": {
   "codemirror_mode": {
    "name": "ipython",
    "version": 3
   },
   "file_extension": ".py",
   "mimetype": "text/x-python",
   "name": "python",
   "nbconvert_exporter": "python",
   "pygments_lexer": "ipython3",
   "version": "3.8.16"
  }
 },
 "nbformat": 4,
 "nbformat_minor": 5
}
