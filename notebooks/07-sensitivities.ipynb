{
 "cells": [
  {
   "cell_type": "code",
   "execution_count": 1,
   "id": "ec6519d4-d2ff-465e-aeaf-432dba189126",
   "metadata": {},
   "outputs": [],
   "source": [
    "import os\n",
    "import pickle\n",
    "import pandas as pd\n",
    "import numpy as np\n",
    "import itertools\n",
    "import warnings\n",
    "import matplotlib.pyplot as plt\n",
    "warnings.filterwarnings('ignore')\n",
    "code_dir = os.path.realpath(os.path.join(os.getcwd(), \"..\"))\n",
    "import sys\n",
    "sys.path.append(code_dir)\n",
    "from mechaqredo.params import validate_params_dict, default_params_dict\n",
    "from mechaqredo.sim import run_single_sim,estimate_sensitivity,get_single_derivative\n",
    "from mechaqredo.generate_scenarios import generate_full_scenario"
   ]
  },
  {
   "cell_type": "code",
   "execution_count": 2,
   "id": "0c3b9633-b748-429d-9963-ede1e05ba1d9",
   "metadata": {},
   "outputs": [
    {
     "ename": "KeyError",
     "evalue": "'optimistic'",
     "output_type": "error",
     "traceback": [
      "\u001b[0;31m---------------------------------------------------------------------------\u001b[0m",
      "\u001b[0;31mKeyError\u001b[0m                                  Traceback (most recent call last)",
      "Cell \u001b[0;32mIn[2], line 7\u001b[0m\n\u001b[1;32m      3\u001b[0m sd \u001b[38;5;241m=\u001b[39m {\u001b[38;5;124m\"\u001b[39m\u001b[38;5;124mservice_fee_model\u001b[39m\u001b[38;5;124m\"\u001b[39m: \u001b[38;5;124m'\u001b[39m\u001b[38;5;124moptimistic\u001b[39m\u001b[38;5;124m'\u001b[39m, \u001b[38;5;124m\"\u001b[39m\u001b[38;5;124mprice_model\u001b[39m\u001b[38;5;124m\"\u001b[39m: \u001b[38;5;124m'\u001b[39m\u001b[38;5;124moptimistic\u001b[39m\u001b[38;5;124m'\u001b[39m, \u001b[38;5;124m\"\u001b[39m\u001b[38;5;124mn_validators\u001b[39m\u001b[38;5;124m\"\u001b[39m: \u001b[38;5;124m'\u001b[39m\u001b[38;5;124moptimistic\u001b[39m\u001b[38;5;124m'\u001b[39m, \u001b[38;5;124m\"\u001b[39m\u001b[38;5;124mn_trx\u001b[39m\u001b[38;5;124m\"\u001b[39m: \u001b[38;5;124m'\u001b[39m\u001b[38;5;124moptimistic\u001b[39m\u001b[38;5;124m'\u001b[39m}\n\u001b[1;32m      6\u001b[0m params\u001b[38;5;241m=\u001b[39mdefault_params_dict(SIMULATION_LENGHT)\n\u001b[0;32m----> 7\u001b[0m params_dict \u001b[38;5;241m=\u001b[39m \u001b[43mgenerate_full_scenario\u001b[49m\u001b[43m(\u001b[49m\n\u001b[1;32m      8\u001b[0m \u001b[43m    \u001b[49m\u001b[43mparams_dict\u001b[49m\u001b[38;5;241;43m=\u001b[39;49m\u001b[43mparams\u001b[49m\u001b[43m,\u001b[49m\u001b[43m \u001b[49m\u001b[43mscenarios_dict\u001b[49m\u001b[38;5;241;43m=\u001b[39;49m\u001b[43msd\u001b[49m\u001b[43m,\u001b[49m\u001b[43m \u001b[49m\u001b[43mforecast_length\u001b[49m\u001b[38;5;241;43m=\u001b[39;49m\u001b[43mSIMULATION_LENGHT\u001b[49m\n\u001b[1;32m      9\u001b[0m \u001b[43m)\u001b[49m\n\u001b[1;32m     10\u001b[0m df\u001b[38;5;241m=\u001b[39mrun_single_sim(SIMULATION_LENGHT,params)\n\u001b[1;32m     11\u001b[0m df\n",
      "File \u001b[0;32m~/research/CryptoEconLab/CryptoEconLab-Qredo-Collab/mechaqredo/generate_scenarios.py:211\u001b[0m, in \u001b[0;36mgenerate_full_scenario\u001b[0;34m(params_dict, scenarios_dict, forecast_length)\u001b[0m\n\u001b[1;32m    201\u001b[0m params_dict \u001b[38;5;241m=\u001b[39m generate_price_or_fee_scenario(\n\u001b[1;32m    202\u001b[0m     params_dict\u001b[38;5;241m=\u001b[39mparams_dict,\n\u001b[1;32m    203\u001b[0m     scenario\u001b[38;5;241m=\u001b[39mscenarios_dict[\u001b[38;5;124m\"\u001b[39m\u001b[38;5;124mservice_fee_model\u001b[39m\u001b[38;5;124m\"\u001b[39m],\n\u001b[1;32m    204\u001b[0m     model_name\u001b[38;5;241m=\u001b[39m\u001b[38;5;124m\"\u001b[39m\u001b[38;5;124mservice_fees_model\u001b[39m\u001b[38;5;124m\"\u001b[39m,\n\u001b[1;32m    205\u001b[0m )\n\u001b[1;32m    206\u001b[0m params_dict \u001b[38;5;241m=\u001b[39m generate_price_or_fee_scenario(\n\u001b[1;32m    207\u001b[0m     params_dict\u001b[38;5;241m=\u001b[39mparams_dict,\n\u001b[1;32m    208\u001b[0m     scenario\u001b[38;5;241m=\u001b[39mscenarios_dict[\u001b[38;5;124m\"\u001b[39m\u001b[38;5;124mprice_model\u001b[39m\u001b[38;5;124m\"\u001b[39m],\n\u001b[1;32m    209\u001b[0m     model_name\u001b[38;5;241m=\u001b[39m\u001b[38;5;124m\"\u001b[39m\u001b[38;5;124mtoken_price_model\u001b[39m\u001b[38;5;124m\"\u001b[39m,\n\u001b[1;32m    210\u001b[0m )\n\u001b[0;32m--> 211\u001b[0m params_dict \u001b[38;5;241m=\u001b[39m \u001b[43mgenerate_arrival_rate_scenario\u001b[49m\u001b[43m(\u001b[49m\n\u001b[1;32m    212\u001b[0m \u001b[43m    \u001b[49m\u001b[43mparams_dict\u001b[49m\u001b[38;5;241;43m=\u001b[39;49m\u001b[43mparams_dict\u001b[49m\u001b[43m,\u001b[49m\u001b[43m \u001b[49m\u001b[43mscenario\u001b[49m\u001b[38;5;241;43m=\u001b[39;49m\u001b[43mscenarios_dict\u001b[49m\u001b[43m[\u001b[49m\u001b[38;5;124;43m\"\u001b[39;49m\u001b[38;5;124;43mn_validators\u001b[39;49m\u001b[38;5;124;43m\"\u001b[39;49m\u001b[43m]\u001b[49m\n\u001b[1;32m    213\u001b[0m \u001b[43m\u001b[49m\u001b[43m)\u001b[49m\n\u001b[1;32m    214\u001b[0m params_dict \u001b[38;5;241m=\u001b[39m generate_n_trx_scenario(\n\u001b[1;32m    215\u001b[0m     params_dict\u001b[38;5;241m=\u001b[39mparams_dict,\n\u001b[1;32m    216\u001b[0m     scenario\u001b[38;5;241m=\u001b[39mscenarios_dict[\u001b[38;5;124m\"\u001b[39m\u001b[38;5;124mn_trx\u001b[39m\u001b[38;5;124m\"\u001b[39m],\n\u001b[1;32m    217\u001b[0m )\n\u001b[1;32m    218\u001b[0m \u001b[38;5;28;01mreturn\u001b[39;00m params_dict\n",
      "File \u001b[0;32m~/research/CryptoEconLab/CryptoEconLab-Qredo-Collab/mechaqredo/generate_scenarios.py:142\u001b[0m, in \u001b[0;36mgenerate_arrival_rate_scenario\u001b[0;34m(params_dict, scenario, VALIDATOR_JOINING_RATES)\u001b[0m\n\u001b[1;32m    131\u001b[0m \u001b[38;5;250m\u001b[39m\u001b[38;5;124;03m\"\"\"\u001b[39;00m\n\u001b[1;32m    132\u001b[0m \u001b[38;5;124;03mGenerate validators arrival rate scenario based on the given scenario.\u001b[39;00m\n\u001b[1;32m    133\u001b[0m \n\u001b[0;32m   (...)\u001b[0m\n\u001b[1;32m    139\u001b[0m \u001b[38;5;124;03m    ParamsDict: Updated params_dict with the generated arrival rate scenario.\u001b[39;00m\n\u001b[1;32m    140\u001b[0m \u001b[38;5;124;03m\"\"\"\u001b[39;00m\n\u001b[1;32m    141\u001b[0m \u001b[38;5;28;01massert\u001b[39;00m scenario \u001b[38;5;129;01min\u001b[39;00m SCENARIOS, \u001b[38;5;124mf\u001b[39m\u001b[38;5;124m\"\u001b[39m\u001b[38;5;124mInvalid scenario. Expected one of: \u001b[39m\u001b[38;5;132;01m{\u001b[39;00mSCENARIOS\u001b[38;5;132;01m}\u001b[39;00m\u001b[38;5;124m\"\u001b[39m\n\u001b[0;32m--> 142\u001b[0m params_dict[\u001b[38;5;124m\"\u001b[39m\u001b[38;5;124mn_validators_model\u001b[39m\u001b[38;5;124m\"\u001b[39m][\u001b[38;5;124m\"\u001b[39m\u001b[38;5;124mrate\u001b[39m\u001b[38;5;124m\"\u001b[39m] \u001b[38;5;241m=\u001b[39m \u001b[43mVALIDATOR_JOINING_RATES\u001b[49m\u001b[43m[\u001b[49m\u001b[43mscenario\u001b[49m\u001b[43m]\u001b[49m\n\u001b[1;32m    143\u001b[0m \u001b[38;5;28;01mreturn\u001b[39;00m params_dict\n",
      "\u001b[0;31mKeyError\u001b[0m: 'optimistic'"
     ]
    }
   ],
   "source": [
    "SIMULATION_LENGHT=365 * 2\n",
    "\n",
    "sd = {\"service_fee_model\": 'very good', \"price_model\": 'optimistic', \"n_validators\": 'optimistic', \"n_trx\": 'optimistic'}\n",
    "\n",
    "\n",
    "params=default_params_dict(SIMULATION_LENGHT)\n",
    "params_dict = generate_full_scenario(\n",
    "    params_dict=params, scenarios_dict=sd, forecast_length=SIMULATION_LENGHT\n",
    ")\n",
    "df=run_single_sim(SIMULATION_LENGHT,params)\n",
    "df\n",
    "df.columns"
   ]
  },
  {
   "cell_type": "code",
   "execution_count": null,
   "id": "d0986263-77cc-4772-b667-f887810b8562",
   "metadata": {},
   "outputs": [],
   "source": [
    "df=get_single_derivative(SIMULATION_LENGHT,with_respect_to='tipping_rate',input_params_dict=params,seed=0)\n",
    "print('A single derivative')\n",
    "df"
   ]
  },
  {
   "cell_type": "code",
   "execution_count": null,
   "id": "0e3a4f36-50ce-436f-b144-d6708aa6bef8",
   "metadata": {},
   "outputs": [],
   "source": [
    "with_respect_to='staking_renewal_rate'\n",
    "h=params[with_respect_to]*0.01\n",
    "params[with_respect_to]  \n",
    "    \n"
   ]
  },
  {
   "cell_type": "code",
   "execution_count": null,
   "id": "a1c924c0-5091-4d19-9014-f06419473dd5",
   "metadata": {},
   "outputs": [],
   "source": [
    "    seed=0\n",
    "    np.random.seed(seed)\n",
    "    df0=run_single_sim(SIMULATION_LENGHT, params)\n",
    "    np.random.seed(seed)\n",
    "    params[with_respect_to]+=h\n",
    "    df1=run_single_sim(SIMULATION_LENGHT, params)\n",
    "    params[with_respect_to]-=h\n",
    "    plt.plot((-df0['circ_supply']+df1['circ_supply'])/h)\n",
    "    "
   ]
  },
  {
   "cell_type": "code",
   "execution_count": null,
   "id": "cec9c0bc-0eaf-4b8b-b4ca-94e91884b7bb",
   "metadata": {},
   "outputs": [],
   "source": [
    "Ntr=20\n",
    "tr=np.linspace(0.1,0.95,Ntr)\n",
    "time=np.arange(SIMULATION_LENGHT)\n",
    "derivatives=np.zeros((len(tr),len(time)))\n",
    "import tqdm\n",
    "for i in tqdm.tqdm(range(Ntr)):\n",
    "    params=default_params_dict(SIMULATION_LENGHT)\n",
    "    params_dict = generate_full_scenario(\n",
    "    params_dict=params, scenarios_dict=sd, forecast_length=SIMULATION_LENGHT)\n",
    "    \n",
    "    params['protocol_fee_rate']=0.1*np.random.random()\n",
    "    params['min_stake_amount']=5000*np.random.random()\n",
    "    params[\"min_stake_duration\"]= np.random.randint(56)\n",
    "    params[\"validator_reward_share\"]=np.random.random()\n",
    "    \n",
    "    params['staking_renewal_rate']=tr[i]\n",
    "    df=estimate_sensitivity(SIMULATION_LENGHT,with_respect_to='staking_renewal_rate',input_params_dict=params,N=100)\n",
    "    derivatives[i]=df['staking_tvl'].values\n"
   ]
  },
  {
   "cell_type": "code",
   "execution_count": null,
   "id": "791a2473-34f0-4d98-8cfe-297426591341",
   "metadata": {},
   "outputs": [],
   "source": [
    "TR,TIME=np.meshgrid(tr,time)\n",
    "p=plt.contourf(TR,TIME,derivatives.T)\n",
    "plt.colorbar(p)"
   ]
  },
  {
   "cell_type": "code",
   "execution_count": null,
   "id": "6ee0cfa9-c229-430e-9a3c-57bca1f6501e",
   "metadata": {},
   "outputs": [],
   "source": [
    "QoI='staking_tvl'\n",
    "params['staking_renewal_rate']=0.1\n",
    "plt.plot(run_single_sim(SIMULATION_LENGHT,params)[QoI],label=0.1)\n",
    "params['staking_renewal_rate']=0.8\n",
    "plt.plot(run_single_sim(SIMULATION_LENGHT,params)[QoI],label=0.8)\n",
    "params['staking_renewal_rate']=0.9\n",
    "plt.plot(run_single_sim(SIMULATION_LENGHT,params)[QoI],label=0.9)\n",
    "plt.legend()\n",
    "plt.title(QoI)"
   ]
  },
  {
   "cell_type": "code",
   "execution_count": null,
   "id": "0da09946-e7b2-4433-affa-cc2a6ac81837",
   "metadata": {},
   "outputs": [],
   "source": []
  }
 ],
 "metadata": {
  "kernelspec": {
   "display_name": "Python 3 (ipykernel)",
   "language": "python",
   "name": "python3"
  },
  "language_info": {
   "codemirror_mode": {
    "name": "ipython",
    "version": 3
   },
   "file_extension": ".py",
   "mimetype": "text/x-python",
   "name": "python",
   "nbconvert_exporter": "python",
   "pygments_lexer": "ipython3",
   "version": "3.10.9"
  }
 },
 "nbformat": 4,
 "nbformat_minor": 5
}
