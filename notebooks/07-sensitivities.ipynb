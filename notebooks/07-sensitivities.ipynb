{
 "cells": [
  {
   "cell_type": "code",
   "execution_count": 12,
   "id": "ec6519d4-d2ff-465e-aeaf-432dba189126",
   "metadata": {},
   "outputs": [],
   "source": [
    "import os\n",
    "import pickle\n",
    "import pandas as pd\n",
    "import numpy as np\n",
    "import itertools\n",
    "import warnings\n",
    "warnings.filterwarnings('ignore')\n",
    "code_dir = os.path.realpath(os.path.join(os.getcwd(), \"..\"))\n",
    "import sys\n",
    "sys.path.append(code_dir)\n",
    "from mechaqredo.params import validate_params_dict, default_params_dict\n",
    "from mechaqredo.sim import run_single_sim,estimate_sensitivity,get_single_derivative\n",
    "from mechaqredo.generate_scenarios import generate_full_scenario"
   ]
  },
  {
   "cell_type": "code",
   "execution_count": 20,
   "id": "0c3b9633-b748-429d-9963-ede1e05ba1d9",
   "metadata": {},
   "outputs": [
    {
     "data": {
      "text/plain": [
       "Index(['iteration', 'circ_supply', 'day_burned', 'day_vested', 'day_locked',\n",
       "       'day_released', 'staking_rewards_vested', 'staking_rewards_ecosystem',\n",
       "       'total_staking_rewards', 'validators_rewards', 'market_cap',\n",
       "       'day_burn_fees', 'day_service_fee_locked', 'ecosystem_fund',\n",
       "       'staking_tvl', 'n_txs', 'token_price', 'service_fees', 'n_validators',\n",
       "       'day_inflation', 'year_inflation'],\n",
       "      dtype='object')"
      ]
     },
     "execution_count": 20,
     "metadata": {},
     "output_type": "execute_result"
    }
   ],
   "source": [
    "SIMULATION_LENGHT=365 * 2\n",
    "\n",
    "sd = {\"service_fee_model\": 'base', \"price_model\": 'base', \"n_validators\": 'base', \"n_trx\": 'base'}\n",
    "\n",
    "\n",
    "params=default_params_dict(SIMULATION_LENGHT)\n",
    "params_dict = generate_full_scenario(\n",
    "    params_dict=params, scenarios_dict=sd, forecast_length=SIMULATION_LENGHT\n",
    ")\n",
    "df=run_single_sim(SIMULATION_LENGHT,params)\n",
    "df\n",
    "df.columns"
   ]
  },
  {
   "cell_type": "code",
   "execution_count": 21,
   "id": "d0986263-77cc-4772-b667-f887810b8562",
   "metadata": {},
   "outputs": [
    {
     "name": "stdout",
     "output_type": "stream",
     "text": [
      "A single derivative\n"
     ]
    },
    {
     "data": {
      "text/html": [
       "<div>\n",
       "<style scoped>\n",
       "    .dataframe tbody tr th:only-of-type {\n",
       "        vertical-align: middle;\n",
       "    }\n",
       "\n",
       "    .dataframe tbody tr th {\n",
       "        vertical-align: top;\n",
       "    }\n",
       "\n",
       "    .dataframe thead th {\n",
       "        text-align: right;\n",
       "    }\n",
       "</style>\n",
       "<table border=\"1\" class=\"dataframe\">\n",
       "  <thead>\n",
       "    <tr style=\"text-align: right;\">\n",
       "      <th></th>\n",
       "      <th>iteration</th>\n",
       "      <th>circ_supply</th>\n",
       "      <th>day_burned</th>\n",
       "      <th>day_vested</th>\n",
       "      <th>day_locked</th>\n",
       "      <th>day_released</th>\n",
       "      <th>staking_rewards_vested</th>\n",
       "      <th>staking_rewards_ecosystem</th>\n",
       "      <th>total_staking_rewards</th>\n",
       "      <th>validators_rewards</th>\n",
       "      <th>...</th>\n",
       "      <th>day_burn_fees</th>\n",
       "      <th>day_service_fee_locked</th>\n",
       "      <th>ecosystem_fund</th>\n",
       "      <th>staking_tvl</th>\n",
       "      <th>n_txs</th>\n",
       "      <th>token_price</th>\n",
       "      <th>service_fees</th>\n",
       "      <th>n_validators</th>\n",
       "      <th>day_inflation</th>\n",
       "      <th>year_inflation</th>\n",
       "    </tr>\n",
       "  </thead>\n",
       "  <tbody>\n",
       "    <tr>\n",
       "      <th>0</th>\n",
       "      <td>0.0</td>\n",
       "      <td>-3.142105e+04</td>\n",
       "      <td>0.0</td>\n",
       "      <td>0.0</td>\n",
       "      <td>31421.052632</td>\n",
       "      <td>0.000000</td>\n",
       "      <td>0.0</td>\n",
       "      <td>0.000000</td>\n",
       "      <td>0.000000</td>\n",
       "      <td>0.000000</td>\n",
       "      <td>...</td>\n",
       "      <td>0.0</td>\n",
       "      <td>31421.052632</td>\n",
       "      <td>0.000000e+00</td>\n",
       "      <td>0.000000</td>\n",
       "      <td>0.0</td>\n",
       "      <td>0.0</td>\n",
       "      <td>0.0</td>\n",
       "      <td>0.0</td>\n",
       "      <td>NaN</td>\n",
       "      <td>NaN</td>\n",
       "    </tr>\n",
       "    <tr>\n",
       "      <th>1</th>\n",
       "      <td>0.0</td>\n",
       "      <td>-6.213066e+04</td>\n",
       "      <td>0.0</td>\n",
       "      <td>0.0</td>\n",
       "      <td>30709.606194</td>\n",
       "      <td>0.000000</td>\n",
       "      <td>0.0</td>\n",
       "      <td>0.000000</td>\n",
       "      <td>0.000000</td>\n",
       "      <td>0.000000</td>\n",
       "      <td>...</td>\n",
       "      <td>0.0</td>\n",
       "      <td>30709.606194</td>\n",
       "      <td>3.070961e+04</td>\n",
       "      <td>0.000000</td>\n",
       "      <td>0.0</td>\n",
       "      <td>0.0</td>\n",
       "      <td>0.0</td>\n",
       "      <td>0.0</td>\n",
       "      <td>-0.000073</td>\n",
       "      <td>NaN</td>\n",
       "    </tr>\n",
       "    <tr>\n",
       "      <th>2</th>\n",
       "      <td>0.0</td>\n",
       "      <td>-9.254413e+04</td>\n",
       "      <td>0.0</td>\n",
       "      <td>0.0</td>\n",
       "      <td>30418.390921</td>\n",
       "      <td>4.922373</td>\n",
       "      <td>0.0</td>\n",
       "      <td>4.922373</td>\n",
       "      <td>4.922373</td>\n",
       "      <td>2.461187</td>\n",
       "      <td>...</td>\n",
       "      <td>0.0</td>\n",
       "      <td>30418.390921</td>\n",
       "      <td>6.112307e+04</td>\n",
       "      <td>0.000000</td>\n",
       "      <td>0.0</td>\n",
       "      <td>0.0</td>\n",
       "      <td>0.0</td>\n",
       "      <td>0.0</td>\n",
       "      <td>-0.000072</td>\n",
       "      <td>NaN</td>\n",
       "    </tr>\n",
       "    <tr>\n",
       "      <th>3</th>\n",
       "      <td>0.0</td>\n",
       "      <td>-1.235329e+05</td>\n",
       "      <td>0.0</td>\n",
       "      <td>0.0</td>\n",
       "      <td>30998.598310</td>\n",
       "      <td>9.804453</td>\n",
       "      <td>0.0</td>\n",
       "      <td>9.804453</td>\n",
       "      <td>9.804453</td>\n",
       "      <td>4.902226</td>\n",
       "      <td>...</td>\n",
       "      <td>0.0</td>\n",
       "      <td>30997.367717</td>\n",
       "      <td>9.211064e+04</td>\n",
       "      <td>1.230593</td>\n",
       "      <td>0.0</td>\n",
       "      <td>0.0</td>\n",
       "      <td>0.0</td>\n",
       "      <td>0.0</td>\n",
       "      <td>-0.000074</td>\n",
       "      <td>NaN</td>\n",
       "    </tr>\n",
       "    <tr>\n",
       "      <th>4</th>\n",
       "      <td>0.0</td>\n",
       "      <td>-1.558332e+05</td>\n",
       "      <td>0.0</td>\n",
       "      <td>0.0</td>\n",
       "      <td>32315.071175</td>\n",
       "      <td>14.785811</td>\n",
       "      <td>0.0</td>\n",
       "      <td>14.785811</td>\n",
       "      <td>14.785811</td>\n",
       "      <td>7.392906</td>\n",
       "      <td>...</td>\n",
       "      <td>0.0</td>\n",
       "      <td>32312.620062</td>\n",
       "      <td>1.244085e+05</td>\n",
       "      <td>3.681707</td>\n",
       "      <td>0.0</td>\n",
       "      <td>0.0</td>\n",
       "      <td>0.0</td>\n",
       "      <td>0.0</td>\n",
       "      <td>-0.000077</td>\n",
       "      <td>NaN</td>\n",
       "    </tr>\n",
       "    <tr>\n",
       "      <th>...</th>\n",
       "      <td>...</td>\n",
       "      <td>...</td>\n",
       "      <td>...</td>\n",
       "      <td>...</td>\n",
       "      <td>...</td>\n",
       "      <td>...</td>\n",
       "      <td>...</td>\n",
       "      <td>...</td>\n",
       "      <td>...</td>\n",
       "      <td>...</td>\n",
       "      <td>...</td>\n",
       "      <td>...</td>\n",
       "      <td>...</td>\n",
       "      <td>...</td>\n",
       "      <td>...</td>\n",
       "      <td>...</td>\n",
       "      <td>...</td>\n",
       "      <td>...</td>\n",
       "      <td>...</td>\n",
       "      <td>...</td>\n",
       "      <td>...</td>\n",
       "    </tr>\n",
       "    <tr>\n",
       "      <th>725</th>\n",
       "      <td>0.0</td>\n",
       "      <td>-2.096738e+07</td>\n",
       "      <td>0.0</td>\n",
       "      <td>0.0</td>\n",
       "      <td>24911.781777</td>\n",
       "      <td>2301.605819</td>\n",
       "      <td>0.0</td>\n",
       "      <td>1848.470078</td>\n",
       "      <td>1848.470078</td>\n",
       "      <td>924.235039</td>\n",
       "      <td>...</td>\n",
       "      <td>0.0</td>\n",
       "      <td>24450.160293</td>\n",
       "      <td>2.092773e+07</td>\n",
       "      <td>8231.060950</td>\n",
       "      <td>0.0</td>\n",
       "      <td>0.0</td>\n",
       "      <td>0.0</td>\n",
       "      <td>0.0</td>\n",
       "      <td>-0.000022</td>\n",
       "      <td>-0.006848</td>\n",
       "    </tr>\n",
       "    <tr>\n",
       "      <th>726</th>\n",
       "      <td>0.0</td>\n",
       "      <td>-2.098919e+07</td>\n",
       "      <td>0.0</td>\n",
       "      <td>0.0</td>\n",
       "      <td>24118.331439</td>\n",
       "      <td>2304.024214</td>\n",
       "      <td>0.0</td>\n",
       "      <td>1850.449315</td>\n",
       "      <td>1850.449315</td>\n",
       "      <td>925.224658</td>\n",
       "      <td>...</td>\n",
       "      <td>0.0</td>\n",
       "      <td>23656.213920</td>\n",
       "      <td>2.094953e+07</td>\n",
       "      <td>8239.603571</td>\n",
       "      <td>0.0</td>\n",
       "      <td>0.0</td>\n",
       "      <td>0.0</td>\n",
       "      <td>0.0</td>\n",
       "      <td>-0.000021</td>\n",
       "      <td>-0.006835</td>\n",
       "    </tr>\n",
       "    <tr>\n",
       "      <th>727</th>\n",
       "      <td>0.0</td>\n",
       "      <td>-2.101099e+07</td>\n",
       "      <td>0.0</td>\n",
       "      <td>0.0</td>\n",
       "      <td>24106.751995</td>\n",
       "      <td>2306.381024</td>\n",
       "      <td>0.0</td>\n",
       "      <td>1852.358318</td>\n",
       "      <td>1852.358318</td>\n",
       "      <td>926.179159</td>\n",
       "      <td>...</td>\n",
       "      <td>0.0</td>\n",
       "      <td>23644.139666</td>\n",
       "      <td>2.097132e+07</td>\n",
       "      <td>8248.193193</td>\n",
       "      <td>0.0</td>\n",
       "      <td>0.0</td>\n",
       "      <td>0.0</td>\n",
       "      <td>0.0</td>\n",
       "      <td>0.000058</td>\n",
       "      <td>-0.006743</td>\n",
       "    </tr>\n",
       "    <tr>\n",
       "      <th>728</th>\n",
       "      <td>0.0</td>\n",
       "      <td>-2.103240e+07</td>\n",
       "      <td>0.0</td>\n",
       "      <td>0.0</td>\n",
       "      <td>23712.254517</td>\n",
       "      <td>2308.745599</td>\n",
       "      <td>0.0</td>\n",
       "      <td>1854.266066</td>\n",
       "      <td>1854.266066</td>\n",
       "      <td>927.133033</td>\n",
       "      <td>...</td>\n",
       "      <td>0.0</td>\n",
       "      <td>23249.164937</td>\n",
       "      <td>2.099272e+07</td>\n",
       "      <td>8256.803240</td>\n",
       "      <td>0.0</td>\n",
       "      <td>0.0</td>\n",
       "      <td>0.0</td>\n",
       "      <td>0.0</td>\n",
       "      <td>-0.000021</td>\n",
       "      <td>-0.006805</td>\n",
       "    </tr>\n",
       "    <tr>\n",
       "      <th>729</th>\n",
       "      <td>0.0</td>\n",
       "      <td>-2.105368e+07</td>\n",
       "      <td>0.0</td>\n",
       "      <td>0.0</td>\n",
       "      <td>23595.574172</td>\n",
       "      <td>2311.078855</td>\n",
       "      <td>0.0</td>\n",
       "      <td>1856.138774</td>\n",
       "      <td>1856.138774</td>\n",
       "      <td>928.069387</td>\n",
       "      <td>...</td>\n",
       "      <td>0.0</td>\n",
       "      <td>23132.007656</td>\n",
       "      <td>2.101399e+07</td>\n",
       "      <td>8265.429676</td>\n",
       "      <td>0.0</td>\n",
       "      <td>0.0</td>\n",
       "      <td>0.0</td>\n",
       "      <td>0.0</td>\n",
       "      <td>-0.000021</td>\n",
       "      <td>-0.006794</td>\n",
       "    </tr>\n",
       "  </tbody>\n",
       "</table>\n",
       "<p>730 rows × 21 columns</p>\n",
       "</div>"
      ],
      "text/plain": [
       "     iteration   circ_supply  day_burned  day_vested    day_locked  \\\n",
       "0          0.0 -3.142105e+04         0.0         0.0  31421.052632   \n",
       "1          0.0 -6.213066e+04         0.0         0.0  30709.606194   \n",
       "2          0.0 -9.254413e+04         0.0         0.0  30418.390921   \n",
       "3          0.0 -1.235329e+05         0.0         0.0  30998.598310   \n",
       "4          0.0 -1.558332e+05         0.0         0.0  32315.071175   \n",
       "..         ...           ...         ...         ...           ...   \n",
       "725        0.0 -2.096738e+07         0.0         0.0  24911.781777   \n",
       "726        0.0 -2.098919e+07         0.0         0.0  24118.331439   \n",
       "727        0.0 -2.101099e+07         0.0         0.0  24106.751995   \n",
       "728        0.0 -2.103240e+07         0.0         0.0  23712.254517   \n",
       "729        0.0 -2.105368e+07         0.0         0.0  23595.574172   \n",
       "\n",
       "     day_released  staking_rewards_vested  staking_rewards_ecosystem  \\\n",
       "0        0.000000                     0.0                   0.000000   \n",
       "1        0.000000                     0.0                   0.000000   \n",
       "2        4.922373                     0.0                   4.922373   \n",
       "3        9.804453                     0.0                   9.804453   \n",
       "4       14.785811                     0.0                  14.785811   \n",
       "..            ...                     ...                        ...   \n",
       "725   2301.605819                     0.0                1848.470078   \n",
       "726   2304.024214                     0.0                1850.449315   \n",
       "727   2306.381024                     0.0                1852.358318   \n",
       "728   2308.745599                     0.0                1854.266066   \n",
       "729   2311.078855                     0.0                1856.138774   \n",
       "\n",
       "     total_staking_rewards  validators_rewards  ...  day_burn_fees  \\\n",
       "0                 0.000000            0.000000  ...            0.0   \n",
       "1                 0.000000            0.000000  ...            0.0   \n",
       "2                 4.922373            2.461187  ...            0.0   \n",
       "3                 9.804453            4.902226  ...            0.0   \n",
       "4                14.785811            7.392906  ...            0.0   \n",
       "..                     ...                 ...  ...            ...   \n",
       "725            1848.470078          924.235039  ...            0.0   \n",
       "726            1850.449315          925.224658  ...            0.0   \n",
       "727            1852.358318          926.179159  ...            0.0   \n",
       "728            1854.266066          927.133033  ...            0.0   \n",
       "729            1856.138774          928.069387  ...            0.0   \n",
       "\n",
       "     day_service_fee_locked  ecosystem_fund  staking_tvl  n_txs  token_price  \\\n",
       "0              31421.052632    0.000000e+00     0.000000    0.0          0.0   \n",
       "1              30709.606194    3.070961e+04     0.000000    0.0          0.0   \n",
       "2              30418.390921    6.112307e+04     0.000000    0.0          0.0   \n",
       "3              30997.367717    9.211064e+04     1.230593    0.0          0.0   \n",
       "4              32312.620062    1.244085e+05     3.681707    0.0          0.0   \n",
       "..                      ...             ...          ...    ...          ...   \n",
       "725            24450.160293    2.092773e+07  8231.060950    0.0          0.0   \n",
       "726            23656.213920    2.094953e+07  8239.603571    0.0          0.0   \n",
       "727            23644.139666    2.097132e+07  8248.193193    0.0          0.0   \n",
       "728            23249.164937    2.099272e+07  8256.803240    0.0          0.0   \n",
       "729            23132.007656    2.101399e+07  8265.429676    0.0          0.0   \n",
       "\n",
       "     service_fees  n_validators  day_inflation  year_inflation  \n",
       "0             0.0           0.0            NaN             NaN  \n",
       "1             0.0           0.0      -0.000073             NaN  \n",
       "2             0.0           0.0      -0.000072             NaN  \n",
       "3             0.0           0.0      -0.000074             NaN  \n",
       "4             0.0           0.0      -0.000077             NaN  \n",
       "..            ...           ...            ...             ...  \n",
       "725           0.0           0.0      -0.000022       -0.006848  \n",
       "726           0.0           0.0      -0.000021       -0.006835  \n",
       "727           0.0           0.0       0.000058       -0.006743  \n",
       "728           0.0           0.0      -0.000021       -0.006805  \n",
       "729           0.0           0.0      -0.000021       -0.006794  \n",
       "\n",
       "[730 rows x 21 columns]"
      ]
     },
     "execution_count": 21,
     "metadata": {},
     "output_type": "execute_result"
    }
   ],
   "source": [
    "df=get_single_derivative(SIMULATION_LENGHT,with_respect_to='tipping_rate',input_params_dict=params,seed=0)\n",
    "print('A single derivative')\n",
    "df"
   ]
  },
  {
   "cell_type": "code",
   "execution_count": 22,
   "id": "0e3a4f36-50ce-436f-b144-d6708aa6bef8",
   "metadata": {},
   "outputs": [
    {
     "data": {
      "text/plain": [
       "0.8"
      ]
     },
     "execution_count": 22,
     "metadata": {},
     "output_type": "execute_result"
    }
   ],
   "source": [
    "with_respect_to='staking_renewal_rate'\n",
    "h=params[with_respect_to]*0.01\n",
    "params[with_respect_to]  \n",
    "    \n"
   ]
  },
  {
   "cell_type": "code",
   "execution_count": 25,
   "id": "a1c924c0-5091-4d19-9014-f06419473dd5",
   "metadata": {},
   "outputs": [
    {
     "data": {
      "text/plain": [
       "[<matplotlib.lines.Line2D at 0x7f8518bb8e20>]"
      ]
     },
     "execution_count": 25,
     "metadata": {},
     "output_type": "execute_result"
    },
    {
     "data": {
      "image/png": "[encoded data removed]",
      "text/plain": [
       "<Figure size 640x480 with 1 Axes>"
      ]
     },
     "metadata": {},
     "output_type": "display_data"
    }
   ],
   "source": [
    "    seed=0\n",
    "    np.random.seed(seed)\n",
    "    df0=run_single_sim(SIMULATION_LENGHT, params)\n",
    "    np.random.seed(seed)\n",
    "    params[with_respect_to]+=h\n",
    "    df1=run_single_sim(SIMULATION_LENGHT, params)\n",
    "    params[with_respect_to]-=h\n",
    "    plt.plot((-df0['circ_supply']+df1['circ_supply'])/h)\n",
    "    "
   ]
  },
  {
   "cell_type": "code",
   "execution_count": 4,
   "id": "713b60de-6ed1-4032-82a4-ff08096d41a9",
   "metadata": {},
   "outputs": [
    {
     "name": "stdout",
     "output_type": "stream",
     "text": [
      "Estimating sensitivity wrt tipping_rate\n"
     ]
    },
    {
     "name": "stderr",
     "output_type": "stream",
     "text": [
      "100%|████████████████████████████████████████████████████████████████████████████████████████████████████| 1000/1000 [00:14<00:00, 68.74it/s]\n"
     ]
    }
   ],
   "source": [
    "df=estimate_sensitivity(SIMULATION_LENGHT,with_respect_to='tipping_rate',input_params_dict=params,N=1000)\n"
   ]
  },
  {
   "cell_type": "code",
   "execution_count": 5,
   "id": "3c989c0d-6a69-4c7d-8ac3-1725970e6726",
   "metadata": {},
   "outputs": [
    {
     "data": {
      "text/plain": [
       "[<matplotlib.lines.Line2D at 0x7f855914d9c0>]"
      ]
     },
     "execution_count": 5,
     "metadata": {},
     "output_type": "execute_result"
    },
    {
     "data": {
      "image/png": "[encoded data removed]",
      "text/plain": [
       "<Figure size 640x480 with 1 Axes>"
      ]
     },
     "metadata": {},
     "output_type": "display_data"
    }
   ],
   "source": [
    "import matplotlib.pyplot as plt\n",
    "plt.plot(df['circ_supply'])"
   ]
  },
  {
   "cell_type": "code",
   "execution_count": 7,
   "id": "cec9c0bc-0eaf-4b8b-b4ca-94e91884b7bb",
   "metadata": {},
   "outputs": [
    {
     "name": "stdout",
     "output_type": "stream",
     "text": [
      "Estimating sensitivity wrt tipping_rate\n"
     ]
    },
    {
     "name": "stderr",
     "output_type": "stream",
     "text": [
      "100%|██████████████████████████████████████████████████████████████████████████████████████████████████████| 100/100 [00:01<00:00, 68.07it/s]\n"
     ]
    },
    {
     "name": "stdout",
     "output_type": "stream",
     "text": [
      "Estimating sensitivity wrt tipping_rate\n"
     ]
    },
    {
     "name": "stderr",
     "output_type": "stream",
     "text": [
      "100%|██████████████████████████████████████████████████████████████████████████████████████████████████████| 100/100 [00:01<00:00, 68.55it/s]\n"
     ]
    },
    {
     "name": "stdout",
     "output_type": "stream",
     "text": [
      "Estimating sensitivity wrt tipping_rate\n"
     ]
    },
    {
     "name": "stderr",
     "output_type": "stream",
     "text": [
      "100%|██████████████████████████████████████████████████████████████████████████████████████████████████████| 100/100 [00:01<00:00, 68.48it/s]\n"
     ]
    },
    {
     "name": "stdout",
     "output_type": "stream",
     "text": [
      "Estimating sensitivity wrt tipping_rate\n"
     ]
    },
    {
     "name": "stderr",
     "output_type": "stream",
     "text": [
      "100%|██████████████████████████████████████████████████████████████████████████████████████████████████████| 100/100 [00:01<00:00, 68.72it/s]\n"
     ]
    },
    {
     "name": "stdout",
     "output_type": "stream",
     "text": [
      "Estimating sensitivity wrt tipping_rate\n"
     ]
    },
    {
     "name": "stderr",
     "output_type": "stream",
     "text": [
      "100%|██████████████████████████████████████████████████████████████████████████████████████████████████████| 100/100 [00:01<00:00, 68.69it/s]\n"
     ]
    },
    {
     "name": "stdout",
     "output_type": "stream",
     "text": [
      "Estimating sensitivity wrt tipping_rate\n"
     ]
    },
    {
     "name": "stderr",
     "output_type": "stream",
     "text": [
      "100%|██████████████████████████████████████████████████████████████████████████████████████████████████████| 100/100 [00:01<00:00, 65.95it/s]\n"
     ]
    },
    {
     "name": "stdout",
     "output_type": "stream",
     "text": [
      "Estimating sensitivity wrt tipping_rate\n"
     ]
    },
    {
     "name": "stderr",
     "output_type": "stream",
     "text": [
      "100%|██████████████████████████████████████████████████████████████████████████████████████████████████████| 100/100 [00:01<00:00, 68.63it/s]\n"
     ]
    },
    {
     "name": "stdout",
     "output_type": "stream",
     "text": [
      "Estimating sensitivity wrt tipping_rate\n"
     ]
    },
    {
     "name": "stderr",
     "output_type": "stream",
     "text": [
      "100%|██████████████████████████████████████████████████████████████████████████████████████████████████████| 100/100 [00:01<00:00, 68.51it/s]\n"
     ]
    },
    {
     "name": "stdout",
     "output_type": "stream",
     "text": [
      "Estimating sensitivity wrt tipping_rate\n"
     ]
    },
    {
     "name": "stderr",
     "output_type": "stream",
     "text": [
      "100%|██████████████████████████████████████████████████████████████████████████████████████████████████████| 100/100 [00:01<00:00, 68.11it/s]\n"
     ]
    },
    {
     "name": "stdout",
     "output_type": "stream",
     "text": [
      "Estimating sensitivity wrt tipping_rate\n"
     ]
    },
    {
     "name": "stderr",
     "output_type": "stream",
     "text": [
      "100%|██████████████████████████████████████████████████████████████████████████████████████████████████████| 100/100 [00:01<00:00, 68.49it/s]\n"
     ]
    },
    {
     "name": "stdout",
     "output_type": "stream",
     "text": [
      "Estimating sensitivity wrt tipping_rate\n"
     ]
    },
    {
     "name": "stderr",
     "output_type": "stream",
     "text": [
      "100%|██████████████████████████████████████████████████████████████████████████████████████████████████████| 100/100 [00:01<00:00, 68.45it/s]\n"
     ]
    },
    {
     "name": "stdout",
     "output_type": "stream",
     "text": [
      "Estimating sensitivity wrt tipping_rate\n"
     ]
    },
    {
     "name": "stderr",
     "output_type": "stream",
     "text": [
      "100%|██████████████████████████████████████████████████████████████████████████████████████████████████████| 100/100 [00:01<00:00, 68.65it/s]\n"
     ]
    },
    {
     "name": "stdout",
     "output_type": "stream",
     "text": [
      "Estimating sensitivity wrt tipping_rate\n"
     ]
    },
    {
     "name": "stderr",
     "output_type": "stream",
     "text": [
      "100%|██████████████████████████████████████████████████████████████████████████████████████████████████████| 100/100 [00:01<00:00, 67.80it/s]\n"
     ]
    },
    {
     "name": "stdout",
     "output_type": "stream",
     "text": [
      "Estimating sensitivity wrt tipping_rate\n"
     ]
    },
    {
     "name": "stderr",
     "output_type": "stream",
     "text": [
      "100%|██████████████████████████████████████████████████████████████████████████████████████████████████████| 100/100 [00:01<00:00, 68.70it/s]\n"
     ]
    },
    {
     "name": "stdout",
     "output_type": "stream",
     "text": [
      "Estimating sensitivity wrt tipping_rate\n"
     ]
    },
    {
     "name": "stderr",
     "output_type": "stream",
     "text": [
      "100%|██████████████████████████████████████████████████████████████████████████████████████████████████████| 100/100 [00:01<00:00, 68.81it/s]\n"
     ]
    },
    {
     "name": "stdout",
     "output_type": "stream",
     "text": [
      "Estimating sensitivity wrt tipping_rate\n"
     ]
    },
    {
     "name": "stderr",
     "output_type": "stream",
     "text": [
      "100%|██████████████████████████████████████████████████████████████████████████████████████████████████████| 100/100 [00:01<00:00, 68.87it/s]\n"
     ]
    },
    {
     "name": "stdout",
     "output_type": "stream",
     "text": [
      "Estimating sensitivity wrt tipping_rate\n"
     ]
    },
    {
     "name": "stderr",
     "output_type": "stream",
     "text": [
      "100%|██████████████████████████████████████████████████████████████████████████████████████████████████████| 100/100 [00:01<00:00, 68.70it/s]\n"
     ]
    },
    {
     "name": "stdout",
     "output_type": "stream",
     "text": [
      "Estimating sensitivity wrt tipping_rate\n"
     ]
    },
    {
     "name": "stderr",
     "output_type": "stream",
     "text": [
      "100%|██████████████████████████████████████████████████████████████████████████████████████████████████████| 100/100 [00:01<00:00, 68.81it/s]\n"
     ]
    },
    {
     "name": "stdout",
     "output_type": "stream",
     "text": [
      "Estimating sensitivity wrt tipping_rate\n"
     ]
    },
    {
     "name": "stderr",
     "output_type": "stream",
     "text": [
      "100%|██████████████████████████████████████████████████████████████████████████████████████████████████████| 100/100 [00:01<00:00, 68.90it/s]\n"
     ]
    },
    {
     "name": "stdout",
     "output_type": "stream",
     "text": [
      "Estimating sensitivity wrt tipping_rate\n"
     ]
    },
    {
     "name": "stderr",
     "output_type": "stream",
     "text": [
      "100%|██████████████████████████████████████████████████████████████████████████████████████████████████████| 100/100 [00:01<00:00, 68.70it/s]\n"
     ]
    }
   ],
   "source": [
    "Ntr=20\n",
    "tr=np.linspace(0.1,0.95,Ntr)\n",
    "time=np.arange(SIMULATION_LENGHT)\n",
    "derivatives=np.zeros((len(tr),len(time)))\n",
    "import tqdm\n",
    "for i in tqdm.tqdm(range(Ntr)):\n",
    "    params=default_params_dict(SIMULATION_LENGHT)\n",
    "    params_dict = generate_full_scenario(\n",
    "    params_dict=params, scenarios_dict=sd, forecast_length=SIMULATION_LENGHT)\n",
    "    \n",
    "    params['protocol_fee_rate']=0.1*np.random.random()\n",
    "    params['min_stake_amount']=5000*np.random.random()\n",
    "    params[\"min_stake_duration\"]= np.randint(56)\n",
    "    params[\"validator_reward_share\"]=np.random.random()\n",
    "    \n",
    "    params['tipping_rate']=tr[i]\n",
    "    df=estimate_sensitivity(SIMULATION_LENGHT,with_respect_to='staking_renewal_rate',input_params_dict=params,N=100)\n",
    "    derivatives[i]=df['circ_supply'].values\n"
   ]
  },
  {
   "cell_type": "code",
   "execution_count": 8,
   "id": "791a2473-34f0-4d98-8cfe-297426591341",
   "metadata": {},
   "outputs": [
    {
     "data": {
      "text/plain": [
       "<matplotlib.colorbar.Colorbar at 0x7f8559272e90>"
      ]
     },
     "execution_count": 8,
     "metadata": {},
     "output_type": "execute_result"
    },
    {
     "data": {
      "image/png": "[encoded data removed]",
      "text/plain": [
       "<Figure size 640x480 with 2 Axes>"
      ]
     },
     "metadata": {},
     "output_type": "display_data"
    }
   ],
   "source": [
    "TR,TIME=np.meshgrid(tr,time)\n",
    "p=plt.contourf(TR,TIME,derivatives.T)\n",
    "plt.colorbar(p)"
   ]
  },
  {
   "cell_type": "code",
   "execution_count": null,
   "id": "6ee0cfa9-c229-430e-9a3c-57bca1f6501e",
   "metadata": {},
   "outputs": [],
   "source": []
  }
 ],
 "metadata": {
  "kernelspec": {
   "display_name": "Python 3 (ipykernel)",
   "language": "python",
   "name": "python3"
  },
  "language_info": {
   "codemirror_mode": {
    "name": "ipython",
    "version": 3
   },
   "file_extension": ".py",
   "mimetype": "text/x-python",
   "name": "python",
   "nbconvert_exporter": "python",
   "pygments_lexer": "ipython3",
   "version": "3.10.9"
  }
 },
 "nbformat": 4,
 "nbformat_minor": 5
}
