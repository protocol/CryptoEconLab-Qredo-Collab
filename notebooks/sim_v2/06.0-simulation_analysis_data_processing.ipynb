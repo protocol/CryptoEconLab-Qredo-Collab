{
 "cells": [
  {
   "cell_type": "markdown",
   "id": "79abfa71-f775-4eda-912b-4121087a6ba0",
   "metadata": {},
   "source": [
    "# Qredo tokenomics simulation - data processing\n",
    "\n",
    "### June 2023\n",
    "\n",
    "## 1. Imports"
   ]
  },
  {
   "cell_type": "code",
   "execution_count": 1,
   "id": "46fd3e70-a38f-458d-8c25-a1d0bca877af",
   "metadata": {
    "tags": []
   },
   "outputs": [],
   "source": [
    "import os\n",
    "import pickle\n",
    "import pandas as pd\n",
    "import numpy as np\n",
    "import datetime as dt\n",
    "import seaborn as sns\n",
    "import matplotlib.pyplot as plt\n",
    "from tqdm import tqdm\n",
    "\n",
    "import warnings\n",
    "warnings.filterwarnings('ignore')"
   ]
  },
  {
   "cell_type": "code",
   "execution_count": 2,
   "id": "b689f3bf-e119-4371-910b-b218b0f1f832",
   "metadata": {
    "tags": []
   },
   "outputs": [],
   "source": [
    "forecast_length = 365*2\n",
    "outfolder = os.path.realpath(\"../data/sim_data\")\n",
    "var_cols = ['circ_supply', 'day_burned', 'day_vested', 'day_locked','day_released', 'staking_rewards_vested',\n",
    "            'staking_rewards_ecosystem','total_staking_rewards', 'validators_rewards', 'market_cap',\n",
    "            'day_burn_fees', 'day_service_fee_locked', 'ecosystem_fund', 'staking_tvl', 'year_inflation']\n",
    "scenario_output_files = [os.path.join(outfolder, f\"sim_df_scenario_{sim}.pickle\") for sim in range(27)]"
   ]
  },
  {
   "cell_type": "markdown",
   "id": "1cec54b0-636e-4c85-99d4-00d6e98409c6",
   "metadata": {},
   "source": [
    "## 2. Process samples by scenario"
   ]
  },
  {
   "cell_type": "code",
   "execution_count": 3,
   "id": "efe7dc04-a3f7-495e-b466-3accce4538c6",
   "metadata": {
    "tags": []
   },
   "outputs": [
    {
     "name": "stderr",
     "output_type": "stream",
     "text": [
      "100%|█████████████████████████████████████████████████████████████████████████████████████████████████████| 27/27 [06:48<00:00, 15.12s/it]\n"
     ]
    }
   ],
   "source": [
    "sample_df_list = []\n",
    "g_cols = ['iteration', 'token_scenario', 'usage_scenario', 'staking_scenario']\n",
    "all_cols = g_cols + var_cols\n",
    "for f in tqdm(scenario_output_files):\n",
    "    with open(f, \"rb\") as fp:\n",
    "        scenario_df = pickle.load(fp)\n",
    "    sample_df = scenario_df.groupby(g_cols).sample(frac=0.1)[all_cols]\n",
    "    sample_df_list.append(sample_df)\n",
    "    del sample_df\n",
    "    \n",
    "sample_df = pd.concat(sample_df_list, ignore_index=True)\n",
    "output_file = os.path.join(outfolder, f\"sample_by_scenario.pickle\")\n",
    "with open(output_file, \"wb\") as fp:\n",
    "    pickle.dump(sample_df, fp)\n",
    "\n",
    "del sample_df_list\n",
    "del sample_df"
   ]
  },
  {
   "cell_type": "markdown",
   "id": "fd704bb4-afc9-4c95-b158-53b10e285ff5",
   "metadata": {},
   "source": [
    "## 3. Process samples by staking reward params"
   ]
  },
  {
   "cell_type": "code",
   "execution_count": 4,
   "id": "b2cf2cdc-4292-494b-9217-de8844aa396c",
   "metadata": {
    "tags": []
   },
   "outputs": [
    {
     "name": "stderr",
     "output_type": "stream",
     "text": [
      "100%|█████████████████████████████████████████████████████████████████████████████████████████████████████| 27/27 [06:50<00:00, 15.19s/it]\n"
     ]
    }
   ],
   "source": [
    "sample_df_list = []\n",
    "g_cols = ['iteration', 'validator_reward_share', 'staking_rewards_vesting_decay_rate', 'release_rate_a', 'release_rate_b']\n",
    "all_cols = g_cols + var_cols\n",
    "for f in tqdm(scenario_output_files):\n",
    "    with open(f, \"rb\") as fp:\n",
    "        scenario_df = pickle.load(fp)\n",
    "    sample_df = scenario_df.groupby(g_cols).sample(frac=0.1)[all_cols]\n",
    "    sample_df_list.append(sample_df)\n",
    "    del sample_df\n",
    "    \n",
    "sample_df = pd.concat(sample_df_list, ignore_index=True)\n",
    "output_file = os.path.join(outfolder, f\"sample_by_staking_reward_params.pickle\")\n",
    "with open(output_file, \"wb\") as fp:\n",
    "    pickle.dump(sample_df, fp)\n",
    "\n",
    "del sample_df_list\n",
    "del sample_df"
   ]
  },
  {
   "cell_type": "code",
   "execution_count": 3,
   "id": "e8b6be68-07ee-4fa1-977a-64d01617ad66",
   "metadata": {
    "tags": []
   },
   "outputs": [
    {
     "name": "stderr",
     "output_type": "stream",
     "text": [
      "100%|█████████████████████████████████████████████████████████████████████████████████████████████████████| 27/27 [07:17<00:00, 16.20s/it]\n"
     ]
    }
   ],
   "source": [
    "sample_df_list = []\n",
    "g_cols = ['iteration', 'staking_scenario', 'validator_reward_share', 'staking_rewards_vesting_decay_rate', 'release_rate_a', 'release_rate_b']\n",
    "all_cols = g_cols + var_cols\n",
    "for f in tqdm(scenario_output_files):\n",
    "    with open(f, \"rb\") as fp:\n",
    "        scenario_df = pickle.load(fp)\n",
    "    sample_df = scenario_df.groupby(g_cols).sample(frac=0.05)[all_cols]\n",
    "    sample_df_list.append(sample_df)\n",
    "    del sample_df\n",
    "    \n",
    "sample_df = pd.concat(sample_df_list, ignore_index=True)\n",
    "output_file = os.path.join(outfolder, f\"sample_by_staking_reward_params_and_scenario.pickle\")\n",
    "with open(output_file, \"wb\") as fp:\n",
    "    pickle.dump(sample_df, fp)\n",
    "\n",
    "del sample_df_list\n",
    "del sample_df"
   ]
  },
  {
   "cell_type": "markdown",
   "id": "fcda7ca8-4139-4fc1-a6d6-481857510d9e",
   "metadata": {},
   "source": [
    "## 3. Process samples by staking requirements"
   ]
  },
  {
   "cell_type": "code",
   "execution_count": 5,
   "id": "8a0ef28d-12c3-4b19-8008-156b7dcca9d7",
   "metadata": {
    "tags": []
   },
   "outputs": [
    {
     "name": "stderr",
     "output_type": "stream",
     "text": [
      "100%|█████████████████████████████████████████████████████████████████████████████████████████████████████| 27/27 [06:09<00:00, 13.70s/it]\n"
     ]
    }
   ],
   "source": [
    "sample_df_list = []\n",
    "g_cols = ['iteration', 'min_stake_amount', 'min_stake_duration']\n",
    "all_cols = g_cols + var_cols\n",
    "for f in tqdm(scenario_output_files):\n",
    "    with open(f, \"rb\") as fp:\n",
    "        scenario_df = pickle.load(fp)\n",
    "    sample_df = scenario_df.groupby(g_cols).sample(frac=0.1)[all_cols]\n",
    "    sample_df_list.append(sample_df)\n",
    "    del sample_df\n",
    "    \n",
    "sample_df = pd.concat(sample_df_list, ignore_index=True)\n",
    "output_file = os.path.join(outfolder, f\"sample_by_staking_requirement_params.pickle\")\n",
    "with open(output_file, \"wb\") as fp:\n",
    "    pickle.dump(sample_df, fp)\n",
    "\n",
    "del sample_df_list\n",
    "del sample_df"
   ]
  },
  {
   "cell_type": "markdown",
   "id": "f6be3360-d9a6-417c-95ac-ef87eb29e832",
   "metadata": {},
   "source": [
    "## 4. Process samples by protocol fee"
   ]
  },
  {
   "cell_type": "code",
   "execution_count": 6,
   "id": "73029bda-58cc-48a7-9ae6-5775e827a308",
   "metadata": {
    "tags": []
   },
   "outputs": [
    {
     "name": "stderr",
     "output_type": "stream",
     "text": [
      "100%|█████████████████████████████████████████████████████████████████████████████████████████████████████| 27/27 [05:59<00:00, 13.33s/it]\n"
     ]
    }
   ],
   "source": [
    "sample_df_list = []\n",
    "g_cols = ['iteration', 'protocol_fee_rate']\n",
    "all_cols = g_cols + var_cols\n",
    "for f in tqdm(scenario_output_files):\n",
    "    with open(f, \"rb\") as fp:\n",
    "        scenario_df = pickle.load(fp)\n",
    "    sample_df = scenario_df.groupby(g_cols).sample(frac=0.1)[all_cols]\n",
    "    sample_df_list.append(sample_df)\n",
    "    del sample_df\n",
    "    \n",
    "sample_df = pd.concat(sample_df_list, ignore_index=True)\n",
    "output_file = os.path.join(outfolder, f\"sample_by_protocol_fee_params.pickle\")\n",
    "with open(output_file, \"wb\") as fp:\n",
    "    pickle.dump(sample_df, fp)\n",
    "\n",
    "del sample_df_list\n",
    "del sample_df"
   ]
  }
 ],
 "metadata": {
  "kernelspec": {
   "display_name": "Python 3 (ipykernel)",
   "language": "python",
   "name": "python3"
  },
  "language_info": {
   "codemirror_mode": {
    "name": "ipython",
    "version": 3
   },
   "file_extension": ".py",
   "mimetype": "text/x-python",
   "name": "python",
   "nbconvert_exporter": "python",
   "pygments_lexer": "ipython3",
   "version": "3.8.16"
  }
 },
 "nbformat": 4,
 "nbformat_minor": 5
}
