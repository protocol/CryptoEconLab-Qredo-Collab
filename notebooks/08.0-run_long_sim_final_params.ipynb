{
 "cells": [
  {
   "cell_type": "markdown",
   "id": "e9021a86-701b-4e0b-9c77-291a31154172",
   "metadata": {},
   "source": [
    "# Qredo tokenomics simulation - Final params run\n",
    "\n",
    "### June 2023\n",
    "\n",
    "## 1. Imports"
   ]
  },
  {
   "cell_type": "code",
   "execution_count": 1,
   "id": "2b2643aa-ab86-4808-adea-931ff6995702",
   "metadata": {
    "tags": []
   },
   "outputs": [],
   "source": [
    "import os\n",
    "import pickle\n",
    "import copy\n",
    "import pandas as pd\n",
    "import numpy as np\n",
    "import itertools\n",
    "from tqdm import tqdm\n",
    "\n",
    "import warnings\n",
    "warnings.filterwarnings('ignore')"
   ]
  },
  {
   "cell_type": "code",
   "execution_count": 2,
   "id": "76950d73-f914-44da-8191-1ac712e86a60",
   "metadata": {
    "tags": []
   },
   "outputs": [],
   "source": [
    "code_dir = os.path.realpath(os.path.join(os.getcwd(), \"..\"))\n",
    "\n",
    "import sys\n",
    "sys.path.append(code_dir)\n",
    "\n",
    "from mechaqredo.params import default_params_dict\n",
    "from mechaqredo.generate_scenarios import generate_params_dict_for_scenario\n",
    "from mechaqredo.data_models import build_model_data_dict_samples\n",
    "from mechaqredo.sim import run_param_sweep_sim"
   ]
  },
  {
   "cell_type": "markdown",
   "id": "f4b431d8-6a82-4a28-86cf-b929c11f6890",
   "metadata": {
    "tags": []
   },
   "source": [
    "## 2. Define the parameters"
   ]
  },
  {
   "cell_type": "code",
   "execution_count": 3,
   "id": "4a0c6461-beae-4686-a9bf-fc8c7d401646",
   "metadata": {
    "tags": []
   },
   "outputs": [],
   "source": [
    "forecast_length = 365*3\n",
    "data_dict_n_samples = 100\n",
    "scenarios = ['pessimistic', 'base', 'optimistic']\n",
    "scenario_tuple_list = list(itertools.product(scenarios, scenarios, scenarios))\n",
    "\n",
    "file = os.path.realpath(\"../data/balances.csv\")\n",
    "outfolder = os.path.realpath(\"../data/sim_data\")\n",
    "wallet_df = pd.read_csv(file)\n",
    "\n",
    "params_dict = default_params_dict(forecast_length)\n",
    "params_dict[\"wallet_balances_vec\"] = wallet_df[\"balance\"].values"
   ]
  },
  {
   "cell_type": "code",
   "execution_count": 4,
   "id": "1b82f7a9-644e-4e60-9783-7c3e9662914f",
   "metadata": {
    "tags": []
   },
   "outputs": [],
   "source": [
    "param_ranges_dict = {\n",
    "    \"tipping_rate\": [0.3],\n",
    "    \"protocol_fee_rate\": [1],\n",
    "    \"min_stake_amount\": [2500],\n",
    "    \"min_stake_duration\": [7*4],\n",
    "    \"validator_reward_share\": [0.8],\n",
    "    \"staking_rewards_vesting_decay_rate\": [np.log(2) / (2.0 * 365)],\n",
    "    \"release_rate_a\": [0.8],\n",
    "    \"release_rate_b\": [0.5],\n",
    "    \"release_rate_max\":[0.0006],\n",
    "    \"ecosystem_refresh_size\": [390_000_000],\n",
    "    \"staking_rewards_fund_size\": [150_000_000],\n",
    "}"
   ]
  },
  {
   "cell_type": "markdown",
   "id": "383aea95-f5b1-4178-9f23-3dd1dbf53f21",
   "metadata": {},
   "source": [
    "## 3. Build scenarios and save"
   ]
  },
  {
   "cell_type": "code",
   "execution_count": 5,
   "id": "8adde252-a248-490e-9a21-8321fddcad27",
   "metadata": {
    "tags": []
   },
   "outputs": [],
   "source": [
    "scenario_dict_list = []\n",
    "for token_scenario, usage_scenario, staking_scenario in scenario_tuple_list:\n",
    "    scenario_params_dict = generate_params_dict_for_scenario(\n",
    "        params_dict, token_scenario, usage_scenario, staking_scenario, forecast_length\n",
    "    )\n",
    "    data_dict_list = build_model_data_dict_samples(\n",
    "            data_dict_n_samples, forecast_length, scenario_params_dict\n",
    "        )\n",
    "    scenario_dict = {\n",
    "        \"token_scenario\":token_scenario, \n",
    "        \"usage_scenario\": usage_scenario, \n",
    "        \"staking_scenario\": staking_scenario,\n",
    "        \"params_dict\": copy.deepcopy(scenario_params_dict),\n",
    "        \"data_dict_list\": copy.deepcopy(data_dict_list),\n",
    "    }\n",
    "    scenario_dict_list.append(scenario_dict)\n",
    "output_file = os.path.join(outfolder, f\"final_params_scenarios.pickle\")\n",
    "with open(output_file, \"wb\") as fp:\n",
    "    pickle.dump(scenario_dict_list, fp)"
   ]
  },
  {
   "cell_type": "markdown",
   "id": "0bd0fd86-8797-47f7-9370-40885d146006",
   "metadata": {},
   "source": [
    "## 4. Run simulation"
   ]
  },
  {
   "cell_type": "code",
   "execution_count": 6,
   "id": "f1a11439-f4c6-4937-8442-5f8580d0039e",
   "metadata": {
    "tags": []
   },
   "outputs": [
    {
     "name": "stderr",
     "output_type": "stream",
     "text": [
      "100%|███████████████████████████████████████████████████████████████████████████████████████████████████████| 1/1 [00:00<00:00,  2.11it/s]\n",
      "100%|███████████████████████████████████████████████████████████████████████████████████████████████████████| 1/1 [00:00<00:00,  2.19it/s]\n",
      "100%|███████████████████████████████████████████████████████████████████████████████████████████████████████| 1/1 [00:00<00:00,  2.17it/s]\n",
      "100%|███████████████████████████████████████████████████████████████████████████████████████████████████████| 1/1 [00:00<00:00,  2.21it/s]\n",
      "100%|███████████████████████████████████████████████████████████████████████████████████████████████████████| 1/1 [00:00<00:00,  2.16it/s]\n",
      "100%|███████████████████████████████████████████████████████████████████████████████████████████████████████| 1/1 [00:00<00:00,  2.21it/s]\n",
      "100%|███████████████████████████████████████████████████████████████████████████████████████████████████████| 1/1 [00:00<00:00,  2.17it/s]\n",
      "100%|███████████████████████████████████████████████████████████████████████████████████████████████████████| 1/1 [00:00<00:00,  2.22it/s]\n",
      "100%|███████████████████████████████████████████████████████████████████████████████████████████████████████| 1/1 [00:00<00:00,  2.15it/s]\n",
      "100%|███████████████████████████████████████████████████████████████████████████████████████████████████████| 1/1 [00:00<00:00,  2.23it/s]\n",
      "100%|███████████████████████████████████████████████████████████████████████████████████████████████████████| 1/1 [00:00<00:00,  2.13it/s]\n",
      "100%|███████████████████████████████████████████████████████████████████████████████████████████████████████| 1/1 [00:00<00:00,  2.17it/s]\n",
      "100%|███████████████████████████████████████████████████████████████████████████████████████████████████████| 1/1 [00:00<00:00,  2.19it/s]\n",
      "100%|███████████████████████████████████████████████████████████████████████████████████████████████████████| 1/1 [00:00<00:00,  2.20it/s]\n",
      "100%|███████████████████████████████████████████████████████████████████████████████████████████████████████| 1/1 [00:00<00:00,  2.22it/s]\n",
      "100%|███████████████████████████████████████████████████████████████████████████████████████████████████████| 1/1 [00:00<00:00,  2.23it/s]\n",
      "100%|███████████████████████████████████████████████████████████████████████████████████████████████████████| 1/1 [00:00<00:00,  2.22it/s]\n",
      "100%|███████████████████████████████████████████████████████████████████████████████████████████████████████| 1/1 [00:00<00:00,  2.21it/s]\n",
      "100%|███████████████████████████████████████████████████████████████████████████████████████████████████████| 1/1 [00:00<00:00,  2.20it/s]\n",
      "100%|███████████████████████████████████████████████████████████████████████████████████████████████████████| 1/1 [00:00<00:00,  2.09it/s]\n",
      "100%|███████████████████████████████████████████████████████████████████████████████████████████████████████| 1/1 [00:00<00:00,  2.18it/s]\n",
      "100%|███████████████████████████████████████████████████████████████████████████████████████████████████████| 1/1 [00:00<00:00,  2.15it/s]\n",
      "100%|███████████████████████████████████████████████████████████████████████████████████████████████████████| 1/1 [00:00<00:00,  2.16it/s]\n",
      "100%|███████████████████████████████████████████████████████████████████████████████████████████████████████| 1/1 [00:00<00:00,  2.23it/s]\n",
      "100%|███████████████████████████████████████████████████████████████████████████████████████████████████████| 1/1 [00:00<00:00,  2.08it/s]\n",
      "100%|███████████████████████████████████████████████████████████████████████████████████████████████████████| 1/1 [00:00<00:00,  2.17it/s]\n",
      "100%|███████████████████████████████████████████████████████████████████████████████████████████████████████| 1/1 [00:00<00:00,  2.21it/s]\n"
     ]
    }
   ],
   "source": [
    "sim_df_list = []\n",
    "for sim, scenario_dict in enumerate(scenario_dict_list):\n",
    "    params_dict = scenario_dict[\"params_dict\"]\n",
    "    data_dict_list = scenario_dict[\"data_dict_list\"]\n",
    "    sim_df = run_param_sweep_sim(\n",
    "        forecast_length,\n",
    "        params_dict,\n",
    "        param_ranges_dict,\n",
    "        data_dict_list=data_dict_list,\n",
    "    )\n",
    "    sim_df['token_scenario'] = scenario_dict['token_scenario']\n",
    "    sim_df['usage_scenario'] = scenario_dict['usage_scenario']\n",
    "    sim_df['staking_scenario'] = scenario_dict['staking_scenario']\n",
    "    sim_df_list.append(sim_df)\n",
    "\n",
    "final_sim_df = pd.concat(sim_df_list, ignore_index=True)\n",
    "sim_file = os.path.join(outfolder, \"final_sim_df.pickle\")\n",
    "with open(sim_file, \"wb\") as fp:\n",
    "    pickle.dump(final_sim_df, fp)"
   ]
  }
 ],
 "metadata": {
  "kernelspec": {
   "display_name": "Python 3 (ipykernel)",
   "language": "python",
   "name": "python3"
  },
  "language_info": {
   "codemirror_mode": {
    "name": "ipython",
    "version": 3
   },
   "file_extension": ".py",
   "mimetype": "text/x-python",
   "name": "python",
   "nbconvert_exporter": "python",
   "pygments_lexer": "ipython3",
   "version": "3.8.16"
  }
 },
 "nbformat": 4,
 "nbformat_minor": 5
}
